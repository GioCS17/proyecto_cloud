{
  "cells": [
    {
      "cell_type": "code",
      "source": [
        "!pip freeze > requeriments.txt"
      ],
      "metadata": {
        "id": "oPW4kdOYGqnq"
      },
      "id": "oPW4kdOYGqnq",
      "execution_count": null,
      "outputs": []
    },
    {
      "cell_type": "code",
      "source": [
        "import tensorflow as tf\n",
        "print(\"Num GPUs Available: \", len(tf.config.list_physical_devices('GPU')))"
      ],
      "metadata": {
        "colab": {
          "base_uri": "https://localhost:8080/"
        },
        "id": "3LY5MYypA4m8",
        "outputId": "e1a8cd43-b337-437e-bab3-610b15969356"
      },
      "id": "3LY5MYypA4m8",
      "execution_count": null,
      "outputs": [
        {
          "output_type": "stream",
          "name": "stdout",
          "text": [
            "Num GPUs Available:  1\n"
          ]
        }
      ]
    },
    {
      "cell_type": "code",
      "execution_count": null,
      "id": "3fb1d0ea-88ed-479c-bfef-b7f81a30795d",
      "metadata": {
        "id": "3fb1d0ea-88ed-479c-bfef-b7f81a30795d"
      },
      "outputs": [],
      "source": [
        "import h5py\n",
        "import pandas as pd\n",
        "import numpy as np\n",
        "\n",
        "import matplotlib.pyplot as plt\n",
        "#import tensorflow as tf\n",
        "#import sklearn.metrics\n",
        "import pickle\n",
        "\n",
        "from sklearn.preprocessing import OneHotEncoder\n",
        "\n",
        "from tensorflow.keras.preprocessing.text import Tokenizer, text_to_word_sequence\n",
        "from tensorflow.keras.preprocessing.sequence import pad_sequences\n",
        "from tensorflow.keras.utils import to_categorical\n",
        "from tensorflow.keras import layers, Model, optimizers\n"
      ]
    },
    {
      "cell_type": "markdown",
      "source": [
        "# Collecting Data"
      ],
      "metadata": {
        "id": "hbJEvzjwXdXG"
      },
      "id": "hbJEvzjwXdXG"
    },
    {
      "cell_type": "code",
      "execution_count": null,
      "id": "9c868e4f-8ee1-4d1f-a332-01c783fff383",
      "metadata": {
        "id": "9c868e4f-8ee1-4d1f-a332-01c783fff383"
      },
      "outputs": [],
      "source": [
        "filename = \"/content/drive/MyDrive/Colab Notebooks/UTEC_Sec_Project/data/VDISC_train.hdf5\"\n",
        "data_train = {}\n",
        "\n",
        "with h5py.File(filename, \"r\") as f:\n",
        "    column_names = list(f.keys())\n",
        "    for column in column_names:\n",
        "        data_train[column] = list(f[column])"
      ]
    },
    {
      "cell_type": "code",
      "execution_count": null,
      "id": "d867bde1-81f0-4e49-8e2a-121aafc20c1b",
      "metadata": {
        "colab": {
          "base_uri": "https://localhost:8080/",
          "height": 224
        },
        "id": "d867bde1-81f0-4e49-8e2a-121aafc20c1b",
        "outputId": "aa07f5e7-e381-4457-c0bf-e1a6033add71"
      },
      "outputs": [
        {
          "output_type": "stream",
          "name": "stdout",
          "text": [
            "(1019471, 6)\n"
          ]
        },
        {
          "output_type": "execute_result",
          "data": {
            "text/plain": [
              "   CWE-119  CWE-120  CWE-469  CWE-476  CWE-other  \\\n",
              "0    False    False    False    False      False   \n",
              "1    False    False    False    False      False   \n",
              "2    False    False    False    False      False   \n",
              "3    False    False    False    False      False   \n",
              "4     True     True    False    False       True   \n",
              "\n",
              "                                      functionSource  \n",
              "0  b'clear_area(int startx, int starty, int xsize...  \n",
              "1  b'ReconstructDuList(Statement* head)\\n{\\n    S...  \n",
              "2  b'free_speaker(void)\\n{\\n   if(Lengths)\\n     ...  \n",
              "3  b'mlx4_register_device(struct mlx4_dev *dev)\\n...  \n",
              "4  b'Parse_Env_Var(void)\\n{\\n  char *p = getenv(\"...  "
            ],
            "text/html": [
              "\n",
              "  <div id=\"df-a98b1d1e-a50e-43b2-8c61-59c474fc41ef\">\n",
              "    <div class=\"colab-df-container\">\n",
              "      <div>\n",
              "<style scoped>\n",
              "    .dataframe tbody tr th:only-of-type {\n",
              "        vertical-align: middle;\n",
              "    }\n",
              "\n",
              "    .dataframe tbody tr th {\n",
              "        vertical-align: top;\n",
              "    }\n",
              "\n",
              "    .dataframe thead th {\n",
              "        text-align: right;\n",
              "    }\n",
              "</style>\n",
              "<table border=\"1\" class=\"dataframe\">\n",
              "  <thead>\n",
              "    <tr style=\"text-align: right;\">\n",
              "      <th></th>\n",
              "      <th>CWE-119</th>\n",
              "      <th>CWE-120</th>\n",
              "      <th>CWE-469</th>\n",
              "      <th>CWE-476</th>\n",
              "      <th>CWE-other</th>\n",
              "      <th>functionSource</th>\n",
              "    </tr>\n",
              "  </thead>\n",
              "  <tbody>\n",
              "    <tr>\n",
              "      <th>0</th>\n",
              "      <td>False</td>\n",
              "      <td>False</td>\n",
              "      <td>False</td>\n",
              "      <td>False</td>\n",
              "      <td>False</td>\n",
              "      <td>b'clear_area(int startx, int starty, int xsize...</td>\n",
              "    </tr>\n",
              "    <tr>\n",
              "      <th>1</th>\n",
              "      <td>False</td>\n",
              "      <td>False</td>\n",
              "      <td>False</td>\n",
              "      <td>False</td>\n",
              "      <td>False</td>\n",
              "      <td>b'ReconstructDuList(Statement* head)\\n{\\n    S...</td>\n",
              "    </tr>\n",
              "    <tr>\n",
              "      <th>2</th>\n",
              "      <td>False</td>\n",
              "      <td>False</td>\n",
              "      <td>False</td>\n",
              "      <td>False</td>\n",
              "      <td>False</td>\n",
              "      <td>b'free_speaker(void)\\n{\\n   if(Lengths)\\n     ...</td>\n",
              "    </tr>\n",
              "    <tr>\n",
              "      <th>3</th>\n",
              "      <td>False</td>\n",
              "      <td>False</td>\n",
              "      <td>False</td>\n",
              "      <td>False</td>\n",
              "      <td>False</td>\n",
              "      <td>b'mlx4_register_device(struct mlx4_dev *dev)\\n...</td>\n",
              "    </tr>\n",
              "    <tr>\n",
              "      <th>4</th>\n",
              "      <td>True</td>\n",
              "      <td>True</td>\n",
              "      <td>False</td>\n",
              "      <td>False</td>\n",
              "      <td>True</td>\n",
              "      <td>b'Parse_Env_Var(void)\\n{\\n  char *p = getenv(\"...</td>\n",
              "    </tr>\n",
              "  </tbody>\n",
              "</table>\n",
              "</div>\n",
              "      <button class=\"colab-df-convert\" onclick=\"convertToInteractive('df-a98b1d1e-a50e-43b2-8c61-59c474fc41ef')\"\n",
              "              title=\"Convert this dataframe to an interactive table.\"\n",
              "              style=\"display:none;\">\n",
              "        \n",
              "  <svg xmlns=\"http://www.w3.org/2000/svg\" height=\"24px\"viewBox=\"0 0 24 24\"\n",
              "       width=\"24px\">\n",
              "    <path d=\"M0 0h24v24H0V0z\" fill=\"none\"/>\n",
              "    <path d=\"M18.56 5.44l.94 2.06.94-2.06 2.06-.94-2.06-.94-.94-2.06-.94 2.06-2.06.94zm-11 1L8.5 8.5l.94-2.06 2.06-.94-2.06-.94L8.5 2.5l-.94 2.06-2.06.94zm10 10l.94 2.06.94-2.06 2.06-.94-2.06-.94-.94-2.06-.94 2.06-2.06.94z\"/><path d=\"M17.41 7.96l-1.37-1.37c-.4-.4-.92-.59-1.43-.59-.52 0-1.04.2-1.43.59L10.3 9.45l-7.72 7.72c-.78.78-.78 2.05 0 2.83L4 21.41c.39.39.9.59 1.41.59.51 0 1.02-.2 1.41-.59l7.78-7.78 2.81-2.81c.8-.78.8-2.07 0-2.86zM5.41 20L4 18.59l7.72-7.72 1.47 1.35L5.41 20z\"/>\n",
              "  </svg>\n",
              "      </button>\n",
              "      \n",
              "  <style>\n",
              "    .colab-df-container {\n",
              "      display:flex;\n",
              "      flex-wrap:wrap;\n",
              "      gap: 12px;\n",
              "    }\n",
              "\n",
              "    .colab-df-convert {\n",
              "      background-color: #E8F0FE;\n",
              "      border: none;\n",
              "      border-radius: 50%;\n",
              "      cursor: pointer;\n",
              "      display: none;\n",
              "      fill: #1967D2;\n",
              "      height: 32px;\n",
              "      padding: 0 0 0 0;\n",
              "      width: 32px;\n",
              "    }\n",
              "\n",
              "    .colab-df-convert:hover {\n",
              "      background-color: #E2EBFA;\n",
              "      box-shadow: 0px 1px 2px rgba(60, 64, 67, 0.3), 0px 1px 3px 1px rgba(60, 64, 67, 0.15);\n",
              "      fill: #174EA6;\n",
              "    }\n",
              "\n",
              "    [theme=dark] .colab-df-convert {\n",
              "      background-color: #3B4455;\n",
              "      fill: #D2E3FC;\n",
              "    }\n",
              "\n",
              "    [theme=dark] .colab-df-convert:hover {\n",
              "      background-color: #434B5C;\n",
              "      box-shadow: 0px 1px 3px 1px rgba(0, 0, 0, 0.15);\n",
              "      filter: drop-shadow(0px 1px 2px rgba(0, 0, 0, 0.3));\n",
              "      fill: #FFFFFF;\n",
              "    }\n",
              "  </style>\n",
              "\n",
              "      <script>\n",
              "        const buttonEl =\n",
              "          document.querySelector('#df-a98b1d1e-a50e-43b2-8c61-59c474fc41ef button.colab-df-convert');\n",
              "        buttonEl.style.display =\n",
              "          google.colab.kernel.accessAllowed ? 'block' : 'none';\n",
              "\n",
              "        async function convertToInteractive(key) {\n",
              "          const element = document.querySelector('#df-a98b1d1e-a50e-43b2-8c61-59c474fc41ef');\n",
              "          const dataTable =\n",
              "            await google.colab.kernel.invokeFunction('convertToInteractive',\n",
              "                                                     [key], {});\n",
              "          if (!dataTable) return;\n",
              "\n",
              "          const docLinkHtml = 'Like what you see? Visit the ' +\n",
              "            '<a target=\"_blank\" href=https://colab.research.google.com/notebooks/data_table.ipynb>data table notebook</a>'\n",
              "            + ' to learn more about interactive tables.';\n",
              "          element.innerHTML = '';\n",
              "          dataTable['output_type'] = 'display_data';\n",
              "          await google.colab.output.renderOutput(dataTable, element);\n",
              "          const docLink = document.createElement('div');\n",
              "          docLink.innerHTML = docLinkHtml;\n",
              "          element.appendChild(docLink);\n",
              "        }\n",
              "      </script>\n",
              "    </div>\n",
              "  </div>\n",
              "  "
            ]
          },
          "metadata": {},
          "execution_count": 5
        }
      ],
      "source": [
        "df_train = pd.DataFrame(data_train)\n",
        "#df_train = df_train.head(100000) #optional, comment in case you want the whole data\n",
        "print(df_train.shape)\n",
        "df_train.head()"
      ]
    },
    {
      "cell_type": "code",
      "source": [
        "df_train_cwe = df_train[df_train[\"CWE-119\"] | df_train[\"CWE-120\"] | df_train[\"CWE-469\"] | df_train[\"CWE-476\"] | df_train[\"CWE-other\"]]"
      ],
      "metadata": {
        "id": "y7tSu_qQ9fip"
      },
      "id": "y7tSu_qQ9fip",
      "execution_count": null,
      "outputs": []
    },
    {
      "cell_type": "code",
      "source": [
        "df_train_clean = df_train.drop(df_train_cwe.index)"
      ],
      "metadata": {
        "id": "pE4GNQ12-Q4b"
      },
      "id": "pE4GNQ12-Q4b",
      "execution_count": null,
      "outputs": []
    },
    {
      "cell_type": "code",
      "source": [
        "df_train_cwe.shape[0] / df_train_clean.shape[0] *100"
      ],
      "metadata": {
        "colab": {
          "base_uri": "https://localhost:8080/"
        },
        "id": "aL2L9AME9xNA",
        "outputId": "8a78e89b-8789-469e-f971-ba706d413c64"
      },
      "id": "aL2L9AME9xNA",
      "execution_count": null,
      "outputs": [
        {
          "output_type": "execute_result",
          "data": {
            "text/plain": [
              "6.9113129963599835"
            ]
          },
          "metadata": {},
          "execution_count": 8
        }
      ]
    },
    {
      "cell_type": "code",
      "source": [
        "df_train_clean_sample = df_train_clean.sample(df_train_cwe.shape[0], random_state=43) #get clean data, code withou vulnerabilities\n",
        "df_train = pd.concat([df_train_cwe, df_train_clean_sample]) # combine \n",
        "df_train = df_train.sample(frac=1).reset_index(drop=True) #shufle data\n",
        "df_train"
      ],
      "metadata": {
        "colab": {
          "base_uri": "https://localhost:8080/",
          "height": 424
        },
        "id": "ttY42bXm967l",
        "outputId": "abea581d-ae6b-4996-b338-0130abf4e00a"
      },
      "id": "ttY42bXm967l",
      "execution_count": null,
      "outputs": [
        {
          "output_type": "execute_result",
          "data": {
            "text/plain": [
              "        CWE-119  CWE-120  CWE-469  CWE-476  CWE-other  \\\n",
              "0         False    False    False    False      False   \n",
              "1         False    False    False    False      False   \n",
              "2         False    False    False    False      False   \n",
              "3         False    False    False    False       True   \n",
              "4          True     True    False    False      False   \n",
              "...         ...      ...      ...      ...        ...   \n",
              "131803    False    False    False    False       True   \n",
              "131804    False    False    False    False      False   \n",
              "131805    False     True    False    False      False   \n",
              "131806    False    False    False    False      False   \n",
              "131807    False    False    False    False      False   \n",
              "\n",
              "                                           functionSource  \n",
              "0       b'isSocksProxy()\\n{\\n    return (QNetworkProxy...  \n",
              "1       b'command_invoke(struct command_base* cbase, s...  \n",
              "2       b'PyModule_AddObject(PyObject *m, const char *...  \n",
              "3       b'genbank_to_alma(inf, outf)\\n     char   *inf...  \n",
              "4       b'mode_select_prepick (struct fujitsu *s)\\n{\\n...  \n",
              "...                                                   ...  \n",
              "131803  b'sqliteOsOpenExclusive(const char *zFilename,...  \n",
              "131804  b'qColor() const\\n{\\n    // start with sane co...  \n",
              "131805  b'handle_topology_map(struct fw_card *card, st...  \n",
              "131806  b'archive_write_set_format_by_name(struct arch...  \n",
              "131807  b'merge_accept_insn (struct decision *oldd, st...  \n",
              "\n",
              "[131808 rows x 6 columns]"
            ],
            "text/html": [
              "\n",
              "  <div id=\"df-0ee80ad9-9cda-4b3a-89da-2380af003004\">\n",
              "    <div class=\"colab-df-container\">\n",
              "      <div>\n",
              "<style scoped>\n",
              "    .dataframe tbody tr th:only-of-type {\n",
              "        vertical-align: middle;\n",
              "    }\n",
              "\n",
              "    .dataframe tbody tr th {\n",
              "        vertical-align: top;\n",
              "    }\n",
              "\n",
              "    .dataframe thead th {\n",
              "        text-align: right;\n",
              "    }\n",
              "</style>\n",
              "<table border=\"1\" class=\"dataframe\">\n",
              "  <thead>\n",
              "    <tr style=\"text-align: right;\">\n",
              "      <th></th>\n",
              "      <th>CWE-119</th>\n",
              "      <th>CWE-120</th>\n",
              "      <th>CWE-469</th>\n",
              "      <th>CWE-476</th>\n",
              "      <th>CWE-other</th>\n",
              "      <th>functionSource</th>\n",
              "    </tr>\n",
              "  </thead>\n",
              "  <tbody>\n",
              "    <tr>\n",
              "      <th>0</th>\n",
              "      <td>False</td>\n",
              "      <td>False</td>\n",
              "      <td>False</td>\n",
              "      <td>False</td>\n",
              "      <td>False</td>\n",
              "      <td>b'isSocksProxy()\\n{\\n    return (QNetworkProxy...</td>\n",
              "    </tr>\n",
              "    <tr>\n",
              "      <th>1</th>\n",
              "      <td>False</td>\n",
              "      <td>False</td>\n",
              "      <td>False</td>\n",
              "      <td>False</td>\n",
              "      <td>False</td>\n",
              "      <td>b'command_invoke(struct command_base* cbase, s...</td>\n",
              "    </tr>\n",
              "    <tr>\n",
              "      <th>2</th>\n",
              "      <td>False</td>\n",
              "      <td>False</td>\n",
              "      <td>False</td>\n",
              "      <td>False</td>\n",
              "      <td>False</td>\n",
              "      <td>b'PyModule_AddObject(PyObject *m, const char *...</td>\n",
              "    </tr>\n",
              "    <tr>\n",
              "      <th>3</th>\n",
              "      <td>False</td>\n",
              "      <td>False</td>\n",
              "      <td>False</td>\n",
              "      <td>False</td>\n",
              "      <td>True</td>\n",
              "      <td>b'genbank_to_alma(inf, outf)\\n     char   *inf...</td>\n",
              "    </tr>\n",
              "    <tr>\n",
              "      <th>4</th>\n",
              "      <td>True</td>\n",
              "      <td>True</td>\n",
              "      <td>False</td>\n",
              "      <td>False</td>\n",
              "      <td>False</td>\n",
              "      <td>b'mode_select_prepick (struct fujitsu *s)\\n{\\n...</td>\n",
              "    </tr>\n",
              "    <tr>\n",
              "      <th>...</th>\n",
              "      <td>...</td>\n",
              "      <td>...</td>\n",
              "      <td>...</td>\n",
              "      <td>...</td>\n",
              "      <td>...</td>\n",
              "      <td>...</td>\n",
              "    </tr>\n",
              "    <tr>\n",
              "      <th>131803</th>\n",
              "      <td>False</td>\n",
              "      <td>False</td>\n",
              "      <td>False</td>\n",
              "      <td>False</td>\n",
              "      <td>True</td>\n",
              "      <td>b'sqliteOsOpenExclusive(const char *zFilename,...</td>\n",
              "    </tr>\n",
              "    <tr>\n",
              "      <th>131804</th>\n",
              "      <td>False</td>\n",
              "      <td>False</td>\n",
              "      <td>False</td>\n",
              "      <td>False</td>\n",
              "      <td>False</td>\n",
              "      <td>b'qColor() const\\n{\\n    // start with sane co...</td>\n",
              "    </tr>\n",
              "    <tr>\n",
              "      <th>131805</th>\n",
              "      <td>False</td>\n",
              "      <td>True</td>\n",
              "      <td>False</td>\n",
              "      <td>False</td>\n",
              "      <td>False</td>\n",
              "      <td>b'handle_topology_map(struct fw_card *card, st...</td>\n",
              "    </tr>\n",
              "    <tr>\n",
              "      <th>131806</th>\n",
              "      <td>False</td>\n",
              "      <td>False</td>\n",
              "      <td>False</td>\n",
              "      <td>False</td>\n",
              "      <td>False</td>\n",
              "      <td>b'archive_write_set_format_by_name(struct arch...</td>\n",
              "    </tr>\n",
              "    <tr>\n",
              "      <th>131807</th>\n",
              "      <td>False</td>\n",
              "      <td>False</td>\n",
              "      <td>False</td>\n",
              "      <td>False</td>\n",
              "      <td>False</td>\n",
              "      <td>b'merge_accept_insn (struct decision *oldd, st...</td>\n",
              "    </tr>\n",
              "  </tbody>\n",
              "</table>\n",
              "<p>131808 rows × 6 columns</p>\n",
              "</div>\n",
              "      <button class=\"colab-df-convert\" onclick=\"convertToInteractive('df-0ee80ad9-9cda-4b3a-89da-2380af003004')\"\n",
              "              title=\"Convert this dataframe to an interactive table.\"\n",
              "              style=\"display:none;\">\n",
              "        \n",
              "  <svg xmlns=\"http://www.w3.org/2000/svg\" height=\"24px\"viewBox=\"0 0 24 24\"\n",
              "       width=\"24px\">\n",
              "    <path d=\"M0 0h24v24H0V0z\" fill=\"none\"/>\n",
              "    <path d=\"M18.56 5.44l.94 2.06.94-2.06 2.06-.94-2.06-.94-.94-2.06-.94 2.06-2.06.94zm-11 1L8.5 8.5l.94-2.06 2.06-.94-2.06-.94L8.5 2.5l-.94 2.06-2.06.94zm10 10l.94 2.06.94-2.06 2.06-.94-2.06-.94-.94-2.06-.94 2.06-2.06.94z\"/><path d=\"M17.41 7.96l-1.37-1.37c-.4-.4-.92-.59-1.43-.59-.52 0-1.04.2-1.43.59L10.3 9.45l-7.72 7.72c-.78.78-.78 2.05 0 2.83L4 21.41c.39.39.9.59 1.41.59.51 0 1.02-.2 1.41-.59l7.78-7.78 2.81-2.81c.8-.78.8-2.07 0-2.86zM5.41 20L4 18.59l7.72-7.72 1.47 1.35L5.41 20z\"/>\n",
              "  </svg>\n",
              "      </button>\n",
              "      \n",
              "  <style>\n",
              "    .colab-df-container {\n",
              "      display:flex;\n",
              "      flex-wrap:wrap;\n",
              "      gap: 12px;\n",
              "    }\n",
              "\n",
              "    .colab-df-convert {\n",
              "      background-color: #E8F0FE;\n",
              "      border: none;\n",
              "      border-radius: 50%;\n",
              "      cursor: pointer;\n",
              "      display: none;\n",
              "      fill: #1967D2;\n",
              "      height: 32px;\n",
              "      padding: 0 0 0 0;\n",
              "      width: 32px;\n",
              "    }\n",
              "\n",
              "    .colab-df-convert:hover {\n",
              "      background-color: #E2EBFA;\n",
              "      box-shadow: 0px 1px 2px rgba(60, 64, 67, 0.3), 0px 1px 3px 1px rgba(60, 64, 67, 0.15);\n",
              "      fill: #174EA6;\n",
              "    }\n",
              "\n",
              "    [theme=dark] .colab-df-convert {\n",
              "      background-color: #3B4455;\n",
              "      fill: #D2E3FC;\n",
              "    }\n",
              "\n",
              "    [theme=dark] .colab-df-convert:hover {\n",
              "      background-color: #434B5C;\n",
              "      box-shadow: 0px 1px 3px 1px rgba(0, 0, 0, 0.15);\n",
              "      filter: drop-shadow(0px 1px 2px rgba(0, 0, 0, 0.3));\n",
              "      fill: #FFFFFF;\n",
              "    }\n",
              "  </style>\n",
              "\n",
              "      <script>\n",
              "        const buttonEl =\n",
              "          document.querySelector('#df-0ee80ad9-9cda-4b3a-89da-2380af003004 button.colab-df-convert');\n",
              "        buttonEl.style.display =\n",
              "          google.colab.kernel.accessAllowed ? 'block' : 'none';\n",
              "\n",
              "        async function convertToInteractive(key) {\n",
              "          const element = document.querySelector('#df-0ee80ad9-9cda-4b3a-89da-2380af003004');\n",
              "          const dataTable =\n",
              "            await google.colab.kernel.invokeFunction('convertToInteractive',\n",
              "                                                     [key], {});\n",
              "          if (!dataTable) return;\n",
              "\n",
              "          const docLinkHtml = 'Like what you see? Visit the ' +\n",
              "            '<a target=\"_blank\" href=https://colab.research.google.com/notebooks/data_table.ipynb>data table notebook</a>'\n",
              "            + ' to learn more about interactive tables.';\n",
              "          element.innerHTML = '';\n",
              "          dataTable['output_type'] = 'display_data';\n",
              "          await google.colab.output.renderOutput(dataTable, element);\n",
              "          const docLink = document.createElement('div');\n",
              "          docLink.innerHTML = docLinkHtml;\n",
              "          element.appendChild(docLink);\n",
              "        }\n",
              "      </script>\n",
              "    </div>\n",
              "  </div>\n",
              "  "
            ]
          },
          "metadata": {},
          "execution_count": 9
        }
      ]
    },
    {
      "cell_type": "code",
      "source": [
        "del(data_train) # free up space "
      ],
      "metadata": {
        "id": "qmnGe2CXYUNp"
      },
      "id": "qmnGe2CXYUNp",
      "execution_count": null,
      "outputs": []
    },
    {
      "cell_type": "code",
      "source": [
        "filename_val = \"/content/drive/MyDrive/Colab Notebooks/UTEC_Sec_Project/data/VDISC_validate.hdf5\"\n",
        "data_val = {}\n",
        "\n",
        "with h5py.File(filename_val, \"r\") as f:\n",
        "    column_names = list(f.keys())\n",
        "    for column in column_names:\n",
        "        data_val[column] = list(f[column])"
      ],
      "metadata": {
        "id": "LfzXzGUBXk71"
      },
      "id": "LfzXzGUBXk71",
      "execution_count": null,
      "outputs": []
    },
    {
      "cell_type": "code",
      "source": [
        "df_val = pd.DataFrame(data_val)\n",
        "#df_val = df_val.head(10000) #optional, comment in case you want the whole data\n",
        "print(df_val.shape)\n",
        "df_val.head()"
      ],
      "metadata": {
        "colab": {
          "base_uri": "https://localhost:8080/",
          "height": 224
        },
        "id": "oux9D180XlHI",
        "outputId": "db4e451a-b2b5-4040-eedd-ab07c97f5752"
      },
      "id": "oux9D180XlHI",
      "execution_count": null,
      "outputs": [
        {
          "output_type": "stream",
          "name": "stdout",
          "text": [
            "(127476, 6)\n"
          ]
        },
        {
          "output_type": "execute_result",
          "data": {
            "text/plain": [
              "   CWE-119  CWE-120  CWE-469  CWE-476  CWE-other  \\\n",
              "0    False    False    False    False      False   \n",
              "1    False    False    False    False      False   \n",
              "2    False    False    False    False      False   \n",
              "3    False    False    False    False      False   \n",
              "4    False    False    False    False      False   \n",
              "\n",
              "                                      functionSource  \n",
              "0  b'gwy_resource_class_mkdir(GwyResourceClass *k...  \n",
              "1  b'SetIgnoredFields( const char **papszFields )...  \n",
              "2  b'timeoutProtoDisplays(void)\\n{\\n    struct pr...  \n",
              "3  b'SelectViewsOf (GraphicComp* comp, Editor* ed...  \n",
              "4  b'multi_get_bool(bool &value)\\n{\\n\\tif (!Multi...  "
            ],
            "text/html": [
              "\n",
              "  <div id=\"df-6cdd12bf-488e-42c4-8e9f-1e1d11b897f7\">\n",
              "    <div class=\"colab-df-container\">\n",
              "      <div>\n",
              "<style scoped>\n",
              "    .dataframe tbody tr th:only-of-type {\n",
              "        vertical-align: middle;\n",
              "    }\n",
              "\n",
              "    .dataframe tbody tr th {\n",
              "        vertical-align: top;\n",
              "    }\n",
              "\n",
              "    .dataframe thead th {\n",
              "        text-align: right;\n",
              "    }\n",
              "</style>\n",
              "<table border=\"1\" class=\"dataframe\">\n",
              "  <thead>\n",
              "    <tr style=\"text-align: right;\">\n",
              "      <th></th>\n",
              "      <th>CWE-119</th>\n",
              "      <th>CWE-120</th>\n",
              "      <th>CWE-469</th>\n",
              "      <th>CWE-476</th>\n",
              "      <th>CWE-other</th>\n",
              "      <th>functionSource</th>\n",
              "    </tr>\n",
              "  </thead>\n",
              "  <tbody>\n",
              "    <tr>\n",
              "      <th>0</th>\n",
              "      <td>False</td>\n",
              "      <td>False</td>\n",
              "      <td>False</td>\n",
              "      <td>False</td>\n",
              "      <td>False</td>\n",
              "      <td>b'gwy_resource_class_mkdir(GwyResourceClass *k...</td>\n",
              "    </tr>\n",
              "    <tr>\n",
              "      <th>1</th>\n",
              "      <td>False</td>\n",
              "      <td>False</td>\n",
              "      <td>False</td>\n",
              "      <td>False</td>\n",
              "      <td>False</td>\n",
              "      <td>b'SetIgnoredFields( const char **papszFields )...</td>\n",
              "    </tr>\n",
              "    <tr>\n",
              "      <th>2</th>\n",
              "      <td>False</td>\n",
              "      <td>False</td>\n",
              "      <td>False</td>\n",
              "      <td>False</td>\n",
              "      <td>False</td>\n",
              "      <td>b'timeoutProtoDisplays(void)\\n{\\n    struct pr...</td>\n",
              "    </tr>\n",
              "    <tr>\n",
              "      <th>3</th>\n",
              "      <td>False</td>\n",
              "      <td>False</td>\n",
              "      <td>False</td>\n",
              "      <td>False</td>\n",
              "      <td>False</td>\n",
              "      <td>b'SelectViewsOf (GraphicComp* comp, Editor* ed...</td>\n",
              "    </tr>\n",
              "    <tr>\n",
              "      <th>4</th>\n",
              "      <td>False</td>\n",
              "      <td>False</td>\n",
              "      <td>False</td>\n",
              "      <td>False</td>\n",
              "      <td>False</td>\n",
              "      <td>b'multi_get_bool(bool &amp;value)\\n{\\n\\tif (!Multi...</td>\n",
              "    </tr>\n",
              "  </tbody>\n",
              "</table>\n",
              "</div>\n",
              "      <button class=\"colab-df-convert\" onclick=\"convertToInteractive('df-6cdd12bf-488e-42c4-8e9f-1e1d11b897f7')\"\n",
              "              title=\"Convert this dataframe to an interactive table.\"\n",
              "              style=\"display:none;\">\n",
              "        \n",
              "  <svg xmlns=\"http://www.w3.org/2000/svg\" height=\"24px\"viewBox=\"0 0 24 24\"\n",
              "       width=\"24px\">\n",
              "    <path d=\"M0 0h24v24H0V0z\" fill=\"none\"/>\n",
              "    <path d=\"M18.56 5.44l.94 2.06.94-2.06 2.06-.94-2.06-.94-.94-2.06-.94 2.06-2.06.94zm-11 1L8.5 8.5l.94-2.06 2.06-.94-2.06-.94L8.5 2.5l-.94 2.06-2.06.94zm10 10l.94 2.06.94-2.06 2.06-.94-2.06-.94-.94-2.06-.94 2.06-2.06.94z\"/><path d=\"M17.41 7.96l-1.37-1.37c-.4-.4-.92-.59-1.43-.59-.52 0-1.04.2-1.43.59L10.3 9.45l-7.72 7.72c-.78.78-.78 2.05 0 2.83L4 21.41c.39.39.9.59 1.41.59.51 0 1.02-.2 1.41-.59l7.78-7.78 2.81-2.81c.8-.78.8-2.07 0-2.86zM5.41 20L4 18.59l7.72-7.72 1.47 1.35L5.41 20z\"/>\n",
              "  </svg>\n",
              "      </button>\n",
              "      \n",
              "  <style>\n",
              "    .colab-df-container {\n",
              "      display:flex;\n",
              "      flex-wrap:wrap;\n",
              "      gap: 12px;\n",
              "    }\n",
              "\n",
              "    .colab-df-convert {\n",
              "      background-color: #E8F0FE;\n",
              "      border: none;\n",
              "      border-radius: 50%;\n",
              "      cursor: pointer;\n",
              "      display: none;\n",
              "      fill: #1967D2;\n",
              "      height: 32px;\n",
              "      padding: 0 0 0 0;\n",
              "      width: 32px;\n",
              "    }\n",
              "\n",
              "    .colab-df-convert:hover {\n",
              "      background-color: #E2EBFA;\n",
              "      box-shadow: 0px 1px 2px rgba(60, 64, 67, 0.3), 0px 1px 3px 1px rgba(60, 64, 67, 0.15);\n",
              "      fill: #174EA6;\n",
              "    }\n",
              "\n",
              "    [theme=dark] .colab-df-convert {\n",
              "      background-color: #3B4455;\n",
              "      fill: #D2E3FC;\n",
              "    }\n",
              "\n",
              "    [theme=dark] .colab-df-convert:hover {\n",
              "      background-color: #434B5C;\n",
              "      box-shadow: 0px 1px 3px 1px rgba(0, 0, 0, 0.15);\n",
              "      filter: drop-shadow(0px 1px 2px rgba(0, 0, 0, 0.3));\n",
              "      fill: #FFFFFF;\n",
              "    }\n",
              "  </style>\n",
              "\n",
              "      <script>\n",
              "        const buttonEl =\n",
              "          document.querySelector('#df-6cdd12bf-488e-42c4-8e9f-1e1d11b897f7 button.colab-df-convert');\n",
              "        buttonEl.style.display =\n",
              "          google.colab.kernel.accessAllowed ? 'block' : 'none';\n",
              "\n",
              "        async function convertToInteractive(key) {\n",
              "          const element = document.querySelector('#df-6cdd12bf-488e-42c4-8e9f-1e1d11b897f7');\n",
              "          const dataTable =\n",
              "            await google.colab.kernel.invokeFunction('convertToInteractive',\n",
              "                                                     [key], {});\n",
              "          if (!dataTable) return;\n",
              "\n",
              "          const docLinkHtml = 'Like what you see? Visit the ' +\n",
              "            '<a target=\"_blank\" href=https://colab.research.google.com/notebooks/data_table.ipynb>data table notebook</a>'\n",
              "            + ' to learn more about interactive tables.';\n",
              "          element.innerHTML = '';\n",
              "          dataTable['output_type'] = 'display_data';\n",
              "          await google.colab.output.renderOutput(dataTable, element);\n",
              "          const docLink = document.createElement('div');\n",
              "          docLink.innerHTML = docLinkHtml;\n",
              "          element.appendChild(docLink);\n",
              "        }\n",
              "      </script>\n",
              "    </div>\n",
              "  </div>\n",
              "  "
            ]
          },
          "metadata": {},
          "execution_count": 12
        }
      ]
    },
    {
      "cell_type": "code",
      "source": [
        "df_val_cwe = df_val[df_val[\"CWE-119\"] | df_val[\"CWE-120\"] | df_val[\"CWE-469\"] | df_val[\"CWE-476\"] | df_val[\"CWE-other\"]]"
      ],
      "metadata": {
        "id": "AUUZtACB_K-v"
      },
      "id": "AUUZtACB_K-v",
      "execution_count": null,
      "outputs": []
    },
    {
      "cell_type": "code",
      "source": [
        "df_val_clean = df_val.drop(df_val_cwe.index)"
      ],
      "metadata": {
        "id": "POaX1y62HNt6"
      },
      "id": "POaX1y62HNt6",
      "execution_count": null,
      "outputs": []
    },
    {
      "cell_type": "code",
      "source": [
        "df_val_clean_sample = df_val_clean.sample(df_val_cwe.shape[0], random_state=43) #get clean data, code withou vulnerabilities\n",
        "df_val = pd.concat([df_val_cwe, df_val_clean_sample]) # combine \n",
        "df_val = df_val.sample(frac=1).reset_index(drop=True) #shufle data\n",
        "df_val"
      ],
      "metadata": {
        "colab": {
          "base_uri": "https://localhost:8080/",
          "height": 424
        },
        "id": "4uXeMC7SHWDH",
        "outputId": "d32ff42a-b933-4f1c-910d-257be9b5a0f3"
      },
      "id": "4uXeMC7SHWDH",
      "execution_count": null,
      "outputs": [
        {
          "output_type": "execute_result",
          "data": {
            "text/plain": [
              "       CWE-119  CWE-120  CWE-469  CWE-476  CWE-other  \\\n",
              "0         True     True    False    False       True   \n",
              "1         True     True    False    False      False   \n",
              "2        False     True    False    False      False   \n",
              "3        False    False    False    False      False   \n",
              "4        False     True    False    False      False   \n",
              "...        ...      ...      ...      ...        ...   \n",
              "16503     True     True    False    False      False   \n",
              "16504    False    False    False    False      False   \n",
              "16505    False    False    False     True      False   \n",
              "16506     True     True    False    False      False   \n",
              "16507    False    False    False    False       True   \n",
              "\n",
              "                                          functionSource  \n",
              "0      b'uncompress_to_file(char *f_src, char *f_targ...  \n",
              "1      b'ipmi_mc_shutoff_watchdog(struct ipmi_intf * ...  \n",
              "2      b'svdNewDMat(int rows, int cols) {\\n  int i;\\n...  \n",
              "3      b'store_sampling_down_factor(struct dbs_data *...  \n",
              "4      b\"esl_sq_SetDesc(ESL_SQ *sq, const char *desc)...  \n",
              "...                                                  ...  \n",
              "16503  b'plugin_emit_keypress (session *sess, unsigne...  \n",
              "16504  b'batrider_create_tilemaps_0(void)\\r\\n{\\r\\n\\tt...  \n",
              "16505  b'list_all_channels(struct Client *source_p)\\n...  \n",
              "16506  b\"adc_msg_get_argument_index(struct adc_messag...  \n",
              "16507  b'exec_woman_emacs(const char *path, const cha...  \n",
              "\n",
              "[16508 rows x 6 columns]"
            ],
            "text/html": [
              "\n",
              "  <div id=\"df-4fb2127c-bb6d-469b-b491-6556f475afd2\">\n",
              "    <div class=\"colab-df-container\">\n",
              "      <div>\n",
              "<style scoped>\n",
              "    .dataframe tbody tr th:only-of-type {\n",
              "        vertical-align: middle;\n",
              "    }\n",
              "\n",
              "    .dataframe tbody tr th {\n",
              "        vertical-align: top;\n",
              "    }\n",
              "\n",
              "    .dataframe thead th {\n",
              "        text-align: right;\n",
              "    }\n",
              "</style>\n",
              "<table border=\"1\" class=\"dataframe\">\n",
              "  <thead>\n",
              "    <tr style=\"text-align: right;\">\n",
              "      <th></th>\n",
              "      <th>CWE-119</th>\n",
              "      <th>CWE-120</th>\n",
              "      <th>CWE-469</th>\n",
              "      <th>CWE-476</th>\n",
              "      <th>CWE-other</th>\n",
              "      <th>functionSource</th>\n",
              "    </tr>\n",
              "  </thead>\n",
              "  <tbody>\n",
              "    <tr>\n",
              "      <th>0</th>\n",
              "      <td>True</td>\n",
              "      <td>True</td>\n",
              "      <td>False</td>\n",
              "      <td>False</td>\n",
              "      <td>True</td>\n",
              "      <td>b'uncompress_to_file(char *f_src, char *f_targ...</td>\n",
              "    </tr>\n",
              "    <tr>\n",
              "      <th>1</th>\n",
              "      <td>True</td>\n",
              "      <td>True</td>\n",
              "      <td>False</td>\n",
              "      <td>False</td>\n",
              "      <td>False</td>\n",
              "      <td>b'ipmi_mc_shutoff_watchdog(struct ipmi_intf * ...</td>\n",
              "    </tr>\n",
              "    <tr>\n",
              "      <th>2</th>\n",
              "      <td>False</td>\n",
              "      <td>True</td>\n",
              "      <td>False</td>\n",
              "      <td>False</td>\n",
              "      <td>False</td>\n",
              "      <td>b'svdNewDMat(int rows, int cols) {\\n  int i;\\n...</td>\n",
              "    </tr>\n",
              "    <tr>\n",
              "      <th>3</th>\n",
              "      <td>False</td>\n",
              "      <td>False</td>\n",
              "      <td>False</td>\n",
              "      <td>False</td>\n",
              "      <td>False</td>\n",
              "      <td>b'store_sampling_down_factor(struct dbs_data *...</td>\n",
              "    </tr>\n",
              "    <tr>\n",
              "      <th>4</th>\n",
              "      <td>False</td>\n",
              "      <td>True</td>\n",
              "      <td>False</td>\n",
              "      <td>False</td>\n",
              "      <td>False</td>\n",
              "      <td>b\"esl_sq_SetDesc(ESL_SQ *sq, const char *desc)...</td>\n",
              "    </tr>\n",
              "    <tr>\n",
              "      <th>...</th>\n",
              "      <td>...</td>\n",
              "      <td>...</td>\n",
              "      <td>...</td>\n",
              "      <td>...</td>\n",
              "      <td>...</td>\n",
              "      <td>...</td>\n",
              "    </tr>\n",
              "    <tr>\n",
              "      <th>16503</th>\n",
              "      <td>True</td>\n",
              "      <td>True</td>\n",
              "      <td>False</td>\n",
              "      <td>False</td>\n",
              "      <td>False</td>\n",
              "      <td>b'plugin_emit_keypress (session *sess, unsigne...</td>\n",
              "    </tr>\n",
              "    <tr>\n",
              "      <th>16504</th>\n",
              "      <td>False</td>\n",
              "      <td>False</td>\n",
              "      <td>False</td>\n",
              "      <td>False</td>\n",
              "      <td>False</td>\n",
              "      <td>b'batrider_create_tilemaps_0(void)\\r\\n{\\r\\n\\tt...</td>\n",
              "    </tr>\n",
              "    <tr>\n",
              "      <th>16505</th>\n",
              "      <td>False</td>\n",
              "      <td>False</td>\n",
              "      <td>False</td>\n",
              "      <td>True</td>\n",
              "      <td>False</td>\n",
              "      <td>b'list_all_channels(struct Client *source_p)\\n...</td>\n",
              "    </tr>\n",
              "    <tr>\n",
              "      <th>16506</th>\n",
              "      <td>True</td>\n",
              "      <td>True</td>\n",
              "      <td>False</td>\n",
              "      <td>False</td>\n",
              "      <td>False</td>\n",
              "      <td>b\"adc_msg_get_argument_index(struct adc_messag...</td>\n",
              "    </tr>\n",
              "    <tr>\n",
              "      <th>16507</th>\n",
              "      <td>False</td>\n",
              "      <td>False</td>\n",
              "      <td>False</td>\n",
              "      <td>False</td>\n",
              "      <td>True</td>\n",
              "      <td>b'exec_woman_emacs(const char *path, const cha...</td>\n",
              "    </tr>\n",
              "  </tbody>\n",
              "</table>\n",
              "<p>16508 rows × 6 columns</p>\n",
              "</div>\n",
              "      <button class=\"colab-df-convert\" onclick=\"convertToInteractive('df-4fb2127c-bb6d-469b-b491-6556f475afd2')\"\n",
              "              title=\"Convert this dataframe to an interactive table.\"\n",
              "              style=\"display:none;\">\n",
              "        \n",
              "  <svg xmlns=\"http://www.w3.org/2000/svg\" height=\"24px\"viewBox=\"0 0 24 24\"\n",
              "       width=\"24px\">\n",
              "    <path d=\"M0 0h24v24H0V0z\" fill=\"none\"/>\n",
              "    <path d=\"M18.56 5.44l.94 2.06.94-2.06 2.06-.94-2.06-.94-.94-2.06-.94 2.06-2.06.94zm-11 1L8.5 8.5l.94-2.06 2.06-.94-2.06-.94L8.5 2.5l-.94 2.06-2.06.94zm10 10l.94 2.06.94-2.06 2.06-.94-2.06-.94-.94-2.06-.94 2.06-2.06.94z\"/><path d=\"M17.41 7.96l-1.37-1.37c-.4-.4-.92-.59-1.43-.59-.52 0-1.04.2-1.43.59L10.3 9.45l-7.72 7.72c-.78.78-.78 2.05 0 2.83L4 21.41c.39.39.9.59 1.41.59.51 0 1.02-.2 1.41-.59l7.78-7.78 2.81-2.81c.8-.78.8-2.07 0-2.86zM5.41 20L4 18.59l7.72-7.72 1.47 1.35L5.41 20z\"/>\n",
              "  </svg>\n",
              "      </button>\n",
              "      \n",
              "  <style>\n",
              "    .colab-df-container {\n",
              "      display:flex;\n",
              "      flex-wrap:wrap;\n",
              "      gap: 12px;\n",
              "    }\n",
              "\n",
              "    .colab-df-convert {\n",
              "      background-color: #E8F0FE;\n",
              "      border: none;\n",
              "      border-radius: 50%;\n",
              "      cursor: pointer;\n",
              "      display: none;\n",
              "      fill: #1967D2;\n",
              "      height: 32px;\n",
              "      padding: 0 0 0 0;\n",
              "      width: 32px;\n",
              "    }\n",
              "\n",
              "    .colab-df-convert:hover {\n",
              "      background-color: #E2EBFA;\n",
              "      box-shadow: 0px 1px 2px rgba(60, 64, 67, 0.3), 0px 1px 3px 1px rgba(60, 64, 67, 0.15);\n",
              "      fill: #174EA6;\n",
              "    }\n",
              "\n",
              "    [theme=dark] .colab-df-convert {\n",
              "      background-color: #3B4455;\n",
              "      fill: #D2E3FC;\n",
              "    }\n",
              "\n",
              "    [theme=dark] .colab-df-convert:hover {\n",
              "      background-color: #434B5C;\n",
              "      box-shadow: 0px 1px 3px 1px rgba(0, 0, 0, 0.15);\n",
              "      filter: drop-shadow(0px 1px 2px rgba(0, 0, 0, 0.3));\n",
              "      fill: #FFFFFF;\n",
              "    }\n",
              "  </style>\n",
              "\n",
              "      <script>\n",
              "        const buttonEl =\n",
              "          document.querySelector('#df-4fb2127c-bb6d-469b-b491-6556f475afd2 button.colab-df-convert');\n",
              "        buttonEl.style.display =\n",
              "          google.colab.kernel.accessAllowed ? 'block' : 'none';\n",
              "\n",
              "        async function convertToInteractive(key) {\n",
              "          const element = document.querySelector('#df-4fb2127c-bb6d-469b-b491-6556f475afd2');\n",
              "          const dataTable =\n",
              "            await google.colab.kernel.invokeFunction('convertToInteractive',\n",
              "                                                     [key], {});\n",
              "          if (!dataTable) return;\n",
              "\n",
              "          const docLinkHtml = 'Like what you see? Visit the ' +\n",
              "            '<a target=\"_blank\" href=https://colab.research.google.com/notebooks/data_table.ipynb>data table notebook</a>'\n",
              "            + ' to learn more about interactive tables.';\n",
              "          element.innerHTML = '';\n",
              "          dataTable['output_type'] = 'display_data';\n",
              "          await google.colab.output.renderOutput(dataTable, element);\n",
              "          const docLink = document.createElement('div');\n",
              "          docLink.innerHTML = docLinkHtml;\n",
              "          element.appendChild(docLink);\n",
              "        }\n",
              "      </script>\n",
              "    </div>\n",
              "  </div>\n",
              "  "
            ]
          },
          "metadata": {},
          "execution_count": 15
        }
      ]
    },
    {
      "cell_type": "code",
      "source": [
        "del(data_val) # free up space "
      ],
      "metadata": {
        "id": "vAQaXXgMYka1"
      },
      "id": "vAQaXXgMYka1",
      "execution_count": null,
      "outputs": []
    },
    {
      "cell_type": "code",
      "source": [
        "from google.colab import drive\n",
        "drive.mount('/content/drive')"
      ],
      "metadata": {
        "colab": {
          "base_uri": "https://localhost:8080/"
        },
        "id": "lvCFyAOyK8JY",
        "outputId": "155151f0-755d-49f1-9559-1250c60ea03a"
      },
      "id": "lvCFyAOyK8JY",
      "execution_count": null,
      "outputs": [
        {
          "output_type": "stream",
          "name": "stdout",
          "text": [
            "Mounted at /content/drive\n"
          ]
        }
      ]
    },
    {
      "cell_type": "markdown",
      "source": [
        "# EDA "
      ],
      "metadata": {
        "id": "bIRxlQTCXiqt"
      },
      "id": "bIRxlQTCXiqt"
    },
    {
      "cell_type": "code",
      "execution_count": null,
      "id": "2e25a5d9-8c1c-41b3-a421-aab3570153a8",
      "metadata": {
        "colab": {
          "base_uri": "https://localhost:8080/"
        },
        "id": "2e25a5d9-8c1c-41b3-a421-aab3570153a8",
        "outputId": "a41a2c9f-4da1-40ba-e63a-c82c5a5d3b16"
      },
      "outputs": [
        {
          "output_type": "execute_result",
          "data": {
            "text/plain": [
              "CWE-119           0\n",
              "CWE-120           0\n",
              "CWE-469           0\n",
              "CWE-476           0\n",
              "CWE-other         0\n",
              "functionSource    0\n",
              "dtype: int64"
            ]
          },
          "metadata": {},
          "execution_count": 17
        }
      ],
      "source": [
        "df_train.isnull().sum()"
      ]
    },
    {
      "cell_type": "code",
      "execution_count": null,
      "id": "d7c64323-f203-40c9-b7a5-9b22a9f50bf9",
      "metadata": {
        "colab": {
          "base_uri": "https://localhost:8080/"
        },
        "id": "d7c64323-f203-40c9-b7a5-9b22a9f50bf9",
        "outputId": "ce23cf84-b603-4c0b-85f5-cd50c98c0a83"
      },
      "outputs": [
        {
          "output_type": "execute_result",
          "data": {
            "text/plain": [
              "((131808,), (131808, 5))"
            ]
          },
          "metadata": {},
          "execution_count": 18
        }
      ],
      "source": [
        "X_train = df_train[\"functionSource\"]\n",
        "y_train = df_train.drop(columns=\"functionSource\")\n",
        "X_train.shape, y_train.shape"
      ]
    },
    {
      "cell_type": "code",
      "source": [
        "X_val = df_val[\"functionSource\"]\n",
        "y_val = df_val.drop(columns=\"functionSource\")\n",
        "X_val.shape, y_val.shape"
      ],
      "metadata": {
        "colab": {
          "base_uri": "https://localhost:8080/"
        },
        "id": "xevZXUTcc6ZE",
        "outputId": "48f5f32c-6cc9-4637-eee9-797eebe3d7fc"
      },
      "id": "xevZXUTcc6ZE",
      "execution_count": null,
      "outputs": [
        {
          "output_type": "execute_result",
          "data": {
            "text/plain": [
              "((16508,), (16508, 5))"
            ]
          },
          "metadata": {},
          "execution_count": 19
        }
      ]
    },
    {
      "cell_type": "markdown",
      "id": "868d8895-1483-46aa-bcd2-686d4d707d12",
      "metadata": {
        "id": "868d8895-1483-46aa-bcd2-686d4d707d12"
      },
      "source": [
        "# Preprocessing"
      ]
    },
    {
      "cell_type": "code",
      "execution_count": null,
      "id": "207e0b08-9e37-4e1a-aa59-bba076831b07",
      "metadata": {
        "id": "207e0b08-9e37-4e1a-aa59-bba076831b07"
      },
      "outputs": [],
      "source": [
        "# Set the global value\n",
        "WORDS_SIZE=10000\n",
        "INPUT_SIZE=500\n",
        "NUM_CLASSES=2\n",
        "MODEL_NUM=0\n",
        "EPOCHS=10"
      ]
    },
    {
      "cell_type": "markdown",
      "id": "9ddabc96-979e-4dbc-a421-c7b3ddf14baa",
      "metadata": {
        "id": "9ddabc96-979e-4dbc-a421-c7b3ddf14baa"
      },
      "source": [
        "## Scaling Output (CWE)"
      ]
    },
    {
      "cell_type": "code",
      "execution_count": null,
      "id": "048ce105-2120-4ca5-a1e1-b4034dc94a71",
      "metadata": {
        "colab": {
          "base_uri": "https://localhost:8080/"
        },
        "id": "048ce105-2120-4ca5-a1e1-b4034dc94a71",
        "outputId": "8efdddc9-40c4-4dfc-9de1-1e44864819cb"
      },
      "outputs": [
        {
          "output_type": "execute_result",
          "data": {
            "text/plain": [
              "array([[0., 0., 0., 0., 0.],\n",
              "       [0., 0., 0., 0., 0.],\n",
              "       [0., 0., 0., 0., 0.],\n",
              "       ...,\n",
              "       [0., 1., 0., 0., 0.],\n",
              "       [0., 0., 0., 0., 0.],\n",
              "       [0., 0., 0., 0., 0.]])"
            ]
          },
          "metadata": {},
          "execution_count": 21
        }
      ],
      "source": [
        "ohe = OneHotEncoder(drop=\"if_binary\", sparse=False)\n",
        "y_train_preprocessed = ohe.fit_transform(y_train)\n",
        "y_train_preprocessed"
      ]
    },
    {
      "cell_type": "code",
      "source": [
        "y_val_preprocessed = ohe.transform(y_val)\n",
        "y_val_preprocessed"
      ],
      "metadata": {
        "colab": {
          "base_uri": "https://localhost:8080/"
        },
        "id": "kHHVsgQIdyNk",
        "outputId": "09fdd7f9-d46b-4eff-f949-7b001b720d83"
      },
      "id": "kHHVsgQIdyNk",
      "execution_count": null,
      "outputs": [
        {
          "output_type": "execute_result",
          "data": {
            "text/plain": [
              "array([[1., 1., 0., 0., 1.],\n",
              "       [1., 1., 0., 0., 0.],\n",
              "       [0., 1., 0., 0., 0.],\n",
              "       ...,\n",
              "       [0., 0., 0., 1., 0.],\n",
              "       [1., 1., 0., 0., 0.],\n",
              "       [0., 0., 0., 0., 1.]])"
            ]
          },
          "metadata": {},
          "execution_count": 22
        }
      ]
    },
    {
      "cell_type": "code",
      "execution_count": null,
      "id": "9245fa0f-a10c-42cb-a752-e6b35f7b9840",
      "metadata": {
        "id": "9245fa0f-a10c-42cb-a752-e6b35f7b9840"
      },
      "outputs": [],
      "source": [
        "X_train = X_train.apply(lambda x : x.decode(\"utf-8\"))\n",
        "X_val = X_val.apply(lambda x : x.decode(\"utf-8\"))"
      ]
    },
    {
      "cell_type": "markdown",
      "id": "21e377ae-1592-4e4f-abf8-276d81948b96",
      "metadata": {
        "id": "21e377ae-1592-4e4f-abf8-276d81948b96"
      },
      "source": [
        "## Tokenization"
      ]
    },
    {
      "cell_type": "markdown",
      "source": [
        "## For Training Dataset"
      ],
      "metadata": {
        "id": "vLTWm9MrdnnG"
      },
      "id": "vLTWm9MrdnnG"
    },
    {
      "cell_type": "code",
      "execution_count": null,
      "id": "d500e599-066a-48a4-afbf-d74922e6f43f",
      "metadata": {
        "colab": {
          "base_uri": "https://localhost:8080/"
        },
        "id": "d500e599-066a-48a4-afbf-d74922e6f43f",
        "outputId": "d9910e16-26c3-49b8-a5ea-6d8445ea9789"
      },
      "outputs": [
        {
          "output_type": "execute_result",
          "data": {
            "text/plain": [
              "332307"
            ]
          },
          "metadata": {},
          "execution_count": 24
        }
      ],
      "source": [
        "tokenizer = Tokenizer()\n",
        "tokenizer.fit_on_texts(list(X_train))\n",
        "len(tokenizer.word_counts)"
      ]
    },
    {
      "cell_type": "code",
      "execution_count": null,
      "id": "afb8ae6f-4597-4d90-afc6-5c8a0d3a036b",
      "metadata": {
        "id": "afb8ae6f-4597-4d90-afc6-5c8a0d3a036b",
        "colab": {
          "base_uri": "https://localhost:8080/"
        },
        "outputId": "94cf6883-90e0-4f89-f4b2-492e30feecca"
      },
      "outputs": [
        {
          "output_type": "execute_result",
          "data": {
            "text/plain": [
              "10000"
            ]
          },
          "metadata": {},
          "execution_count": 25
        }
      ],
      "source": [
        "tokenizer.num_words = WORDS_SIZE\n",
        "tokenizer.num_words"
      ]
    },
    {
      "cell_type": "code",
      "source": [
        "list_tokenized_train = tokenizer.texts_to_sequences(X_train)"
      ],
      "metadata": {
        "id": "S8THMmLB_kHV"
      },
      "id": "S8THMmLB_kHV",
      "execution_count": null,
      "outputs": []
    },
    {
      "cell_type": "code",
      "source": [
        "X_train_pad = pad_sequences(list_tokenized_train,  maxlen=INPUT_SIZE, padding='post', dtype = float)"
      ],
      "metadata": {
        "id": "Teu9NokZ_0Fz"
      },
      "id": "Teu9NokZ_0Fz",
      "execution_count": null,
      "outputs": []
    },
    {
      "cell_type": "code",
      "source": [
        "y_train_preprocessed.shape"
      ],
      "metadata": {
        "id": "L9_ebs73DRa-",
        "colab": {
          "base_uri": "https://localhost:8080/"
        },
        "outputId": "0f488274-7b67-4730-a73e-b5ff3e0bc246"
      },
      "id": "L9_ebs73DRa-",
      "execution_count": null,
      "outputs": [
        {
          "output_type": "execute_result",
          "data": {
            "text/plain": [
              "(131808, 5)"
            ]
          },
          "metadata": {},
          "execution_count": 28
        }
      ]
    },
    {
      "cell_type": "code",
      "source": [
        "y_train=[]\n",
        "for col in range(5):\n",
        "    y_train.append(to_categorical(y_train_preprocessed[:,col], num_classes=NUM_CLASSES).astype(np.int64))\n",
        "len(y_train)"
      ],
      "metadata": {
        "colab": {
          "base_uri": "https://localhost:8080/"
        },
        "id": "qV29lc4bWffL",
        "outputId": "e8ec6e3d-e3af-4d2d-9a27-1e31fea7bb5e"
      },
      "id": "qV29lc4bWffL",
      "execution_count": null,
      "outputs": [
        {
          "output_type": "execute_result",
          "data": {
            "text/plain": [
              "5"
            ]
          },
          "metadata": {},
          "execution_count": 29
        }
      ]
    },
    {
      "cell_type": "markdown",
      "source": [
        "## For Validation Dataset"
      ],
      "metadata": {
        "id": "GiRe0--GdpDl"
      },
      "id": "GiRe0--GdpDl"
    },
    {
      "cell_type": "code",
      "source": [
        "list_tokenized_val = tokenizer.texts_to_sequences(X_val)\n",
        "X_val_pad = pad_sequences(list_tokenized_val,  maxlen=INPUT_SIZE, padding='post', dtype = float)"
      ],
      "metadata": {
        "id": "K3Y6vhSjdq-f"
      },
      "id": "K3Y6vhSjdq-f",
      "execution_count": null,
      "outputs": []
    },
    {
      "cell_type": "code",
      "source": [
        "y_val=[]\n",
        "for col in range(5):\n",
        "    y_val.append(to_categorical(y_val_preprocessed[:,col], num_classes=NUM_CLASSES).astype(np.int64))\n",
        "len(y_val)"
      ],
      "metadata": {
        "colab": {
          "base_uri": "https://localhost:8080/"
        },
        "id": "BGRlRTpLdrBW",
        "outputId": "b8e6046f-b7e6-4b37-ab8c-1464082d5260"
      },
      "id": "BGRlRTpLdrBW",
      "execution_count": null,
      "outputs": [
        {
          "output_type": "execute_result",
          "data": {
            "text/plain": [
              "5"
            ]
          },
          "metadata": {},
          "execution_count": 31
        }
      ]
    },
    {
      "cell_type": "markdown",
      "source": [
        "# Modeling"
      ],
      "metadata": {
        "id": "2ILzuvMldlxf"
      },
      "id": "2ILzuvMldlxf"
    },
    {
      "cell_type": "code",
      "source": [
        "random_weights = np.random.normal(size=(WORDS_SIZE, 13),scale=0.01)"
      ],
      "metadata": {
        "id": "52szbETWW-AU"
      },
      "id": "52szbETWW-AU",
      "execution_count": null,
      "outputs": []
    },
    {
      "cell_type": "code",
      "source": [
        "# Must use non-sequential model building to create branches in the output layer\n",
        "inp_layer = layers.Input(shape=(INPUT_SIZE,))\n",
        "mid_layers = layers.Embedding(input_dim = WORDS_SIZE,\n",
        "                                    output_dim = 13,\n",
        "                                    weights=[random_weights],\n",
        "                                    input_length = INPUT_SIZE)(inp_layer)\n",
        "mid_layers = layers.Convolution1D(filters=512, kernel_size=(9), padding='same', activation='relu')(mid_layers)\n",
        "mid_layers = layers.MaxPool1D(pool_size=5)(mid_layers)\n",
        "mid_layers = layers.Dropout(0.5)(mid_layers)\n",
        "mid_layers = layers.Flatten()(mid_layers)\n",
        "mid_layers = layers.Dense(64, activation='relu')(mid_layers)\n",
        "mid_layers = layers.Dense(16, activation='relu')(mid_layers)\n",
        "output1 = layers.Dense(2, activation='softmax')(mid_layers)\n",
        "output2 = layers.Dense(2, activation='softmax')(mid_layers)\n",
        "output3 = layers.Dense(2, activation='softmax')(mid_layers)\n",
        "output4 = layers.Dense(2, activation='softmax')(mid_layers)\n",
        "output5 = layers.Dense(2, activation='softmax')(mid_layers)\n",
        "model = Model(inp_layer,[output1,output2,output3,output4,output5])\n",
        "\n",
        "# Define custom optimizers\n",
        "adam = optimizers.Adam(learning_rate=0.005, beta_1=0.9, beta_2=0.999, epsilon=1, decay=0.0, amsgrad=False)\n",
        "\n",
        "## Compile model with metrics\n",
        "model.compile(optimizer=adam, loss='categorical_crossentropy', metrics=[tf.keras.metrics.Precision(), tf.keras.metrics.Recall()])\n",
        "print(\"CNN model built: \")\n",
        "model.summary()"
      ],
      "metadata": {
        "colab": {
          "base_uri": "https://localhost:8080/"
        },
        "id": "PjkTefZwXDAd",
        "outputId": "536f1767-a0a4-4466-dbf3-0f2b8ff96d4a"
      },
      "id": "PjkTefZwXDAd",
      "execution_count": null,
      "outputs": [
        {
          "output_type": "stream",
          "name": "stdout",
          "text": [
            "CNN model built: \n",
            "Model: \"model\"\n",
            "__________________________________________________________________________________________________\n",
            " Layer (type)                   Output Shape         Param #     Connected to                     \n",
            "==================================================================================================\n",
            " input_1 (InputLayer)           [(None, 500)]        0           []                               \n",
            "                                                                                                  \n",
            " embedding (Embedding)          (None, 500, 13)      130000      ['input_1[0][0]']                \n",
            "                                                                                                  \n",
            " conv1d (Conv1D)                (None, 500, 512)     60416       ['embedding[0][0]']              \n",
            "                                                                                                  \n",
            " max_pooling1d (MaxPooling1D)   (None, 100, 512)     0           ['conv1d[0][0]']                 \n",
            "                                                                                                  \n",
            " dropout (Dropout)              (None, 100, 512)     0           ['max_pooling1d[0][0]']          \n",
            "                                                                                                  \n",
            " flatten (Flatten)              (None, 51200)        0           ['dropout[0][0]']                \n",
            "                                                                                                  \n",
            " dense (Dense)                  (None, 64)           3276864     ['flatten[0][0]']                \n",
            "                                                                                                  \n",
            " dense_1 (Dense)                (None, 16)           1040        ['dense[0][0]']                  \n",
            "                                                                                                  \n",
            " dense_2 (Dense)                (None, 2)            34          ['dense_1[0][0]']                \n",
            "                                                                                                  \n",
            " dense_3 (Dense)                (None, 2)            34          ['dense_1[0][0]']                \n",
            "                                                                                                  \n",
            " dense_4 (Dense)                (None, 2)            34          ['dense_1[0][0]']                \n",
            "                                                                                                  \n",
            " dense_5 (Dense)                (None, 2)            34          ['dense_1[0][0]']                \n",
            "                                                                                                  \n",
            " dense_6 (Dense)                (None, 2)            34          ['dense_1[0][0]']                \n",
            "                                                                                                  \n",
            "==================================================================================================\n",
            "Total params: 3,468,490\n",
            "Trainable params: 3,468,490\n",
            "Non-trainable params: 0\n",
            "__________________________________________________________________________________________________\n"
          ]
        }
      ]
    },
    {
      "cell_type": "code",
      "source": [
        "callback = tf.keras.callbacks.EarlyStopping(monitor='val_loss', patience=3)"
      ],
      "metadata": {
        "id": "DZul54M8EHrY"
      },
      "id": "DZul54M8EHrY",
      "execution_count": null,
      "outputs": []
    },
    {
      "cell_type": "code",
      "source": [
        "class_weights = [{0: 1., 1: 5.},{0: 1., 1: 5.},{0: 1., 1: 5.},{0: 1., 1: 5.},{0: 1., 1: 5.}]\n",
        "\n",
        "history = model.fit(x = X_train_pad,\n",
        "          y = [y_train[0], y_train[1], y_train[2], y_train[3], y_train[4]],\n",
        "          validation_data = (X_val_pad, [y_val[0], y_val[1], y_val[2], y_val[3], y_val[4]]),\n",
        "          epochs = 100,\n",
        "          batch_size = 128,\n",
        "          verbose =2,\n",
        "          callbacks=[callback]\n",
        "          #class_weight= dict(enumerate(class_weights))\n",
        "          )"
      ],
      "metadata": {
        "id": "SptHll4nXtCs",
        "colab": {
          "base_uri": "https://localhost:8080/"
        },
        "outputId": "e78e9239-7c13-4c6f-8206-7c2f3db11b70"
      },
      "id": "SptHll4nXtCs",
      "execution_count": null,
      "outputs": [
        {
          "output_type": "stream",
          "name": "stdout",
          "text": [
            "Epoch 1/100\n",
            "1030/1030 - 44s - loss: 2.1218 - dense_2_loss: 0.4555 - dense_3_loss: 0.6055 - dense_4_loss: 0.1802 - dense_5_loss: 0.3237 - dense_6_loss: 0.5569 - dense_2_precision: 0.8533 - dense_2_recall: 0.8533 - dense_3_precision: 0.7114 - dense_3_recall: 0.7114 - dense_4_precision: 0.9772 - dense_4_recall: 0.9772 - dense_5_precision: 0.9252 - dense_5_recall: 0.9252 - dense_6_precision: 0.7498 - dense_6_recall: 0.7498 - val_loss: 1.8488 - val_dense_2_loss: 0.4070 - val_dense_3_loss: 0.5830 - val_dense_4_loss: 0.0781 - val_dense_5_loss: 0.2601 - val_dense_6_loss: 0.5206 - val_dense_2_precision: 0.8535 - val_dense_2_recall: 0.8535 - val_dense_3_precision: 0.7123 - val_dense_3_recall: 0.7123 - val_dense_4_precision: 0.9847 - val_dense_4_recall: 0.9847 - val_dense_5_precision: 0.9268 - val_dense_5_recall: 0.9268 - val_dense_6_precision: 0.7832 - val_dense_6_recall: 0.7832 - 44s/epoch - 43ms/step\n",
            "Epoch 2/100\n",
            "1030/1030 - 29s - loss: 1.8341 - dense_2_loss: 0.4038 - dense_3_loss: 0.5784 - dense_4_loss: 0.0803 - dense_5_loss: 0.2618 - dense_6_loss: 0.5098 - dense_2_precision: 0.8537 - dense_2_recall: 0.8537 - dense_3_precision: 0.7116 - dense_3_recall: 0.7116 - dense_4_precision: 0.9841 - dense_4_recall: 0.9841 - dense_5_precision: 0.9265 - dense_5_recall: 0.9265 - dense_6_precision: 0.7879 - dense_6_recall: 0.7879 - val_loss: 1.8318 - val_dense_2_loss: 0.4039 - val_dense_3_loss: 0.5766 - val_dense_4_loss: 0.0783 - val_dense_5_loss: 0.2604 - val_dense_6_loss: 0.5126 - val_dense_2_precision: 0.8535 - val_dense_2_recall: 0.8535 - val_dense_3_precision: 0.7123 - val_dense_3_recall: 0.7123 - val_dense_4_precision: 0.9847 - val_dense_4_recall: 0.9847 - val_dense_5_precision: 0.9268 - val_dense_5_recall: 0.9268 - val_dense_6_precision: 0.7832 - val_dense_6_recall: 0.7832 - 29s/epoch - 29ms/step\n",
            "Epoch 3/100\n",
            "1030/1030 - 30s - loss: 1.8252 - dense_2_loss: 0.4019 - dense_3_loss: 0.5751 - dense_4_loss: 0.0799 - dense_5_loss: 0.2619 - dense_6_loss: 0.5064 - dense_2_precision: 0.8537 - dense_2_recall: 0.8537 - dense_3_precision: 0.7116 - dense_3_recall: 0.7116 - dense_4_precision: 0.9841 - dense_4_recall: 0.9841 - dense_5_precision: 0.9265 - dense_5_recall: 0.9265 - dense_6_precision: 0.7879 - dense_6_recall: 0.7879 - val_loss: 1.8277 - val_dense_2_loss: 0.4038 - val_dense_3_loss: 0.5753 - val_dense_4_loss: 0.0775 - val_dense_5_loss: 0.2603 - val_dense_6_loss: 0.5107 - val_dense_2_precision: 0.8535 - val_dense_2_recall: 0.8535 - val_dense_3_precision: 0.7123 - val_dense_3_recall: 0.7123 - val_dense_4_precision: 0.9847 - val_dense_4_recall: 0.9847 - val_dense_5_precision: 0.9268 - val_dense_5_recall: 0.9268 - val_dense_6_precision: 0.7832 - val_dense_6_recall: 0.7832 - 30s/epoch - 29ms/step\n",
            "Epoch 4/100\n",
            "1030/1030 - 30s - loss: 1.8215 - dense_2_loss: 0.4011 - dense_3_loss: 0.5738 - dense_4_loss: 0.0794 - dense_5_loss: 0.2617 - dense_6_loss: 0.5055 - dense_2_precision: 0.8537 - dense_2_recall: 0.8537 - dense_3_precision: 0.7116 - dense_3_recall: 0.7116 - dense_4_precision: 0.9841 - dense_4_recall: 0.9841 - dense_5_precision: 0.9265 - dense_5_recall: 0.9265 - dense_6_precision: 0.7879 - dense_6_recall: 0.7879 - val_loss: 1.8236 - val_dense_2_loss: 0.4024 - val_dense_3_loss: 0.5740 - val_dense_4_loss: 0.0771 - val_dense_5_loss: 0.2601 - val_dense_6_loss: 0.5099 - val_dense_2_precision: 0.8535 - val_dense_2_recall: 0.8535 - val_dense_3_precision: 0.7123 - val_dense_3_recall: 0.7123 - val_dense_4_precision: 0.9847 - val_dense_4_recall: 0.9847 - val_dense_5_precision: 0.9268 - val_dense_5_recall: 0.9268 - val_dense_6_precision: 0.7832 - val_dense_6_recall: 0.7832 - 30s/epoch - 29ms/step\n",
            "Epoch 5/100\n",
            "1030/1030 - 30s - loss: 1.8182 - dense_2_loss: 0.4003 - dense_3_loss: 0.5725 - dense_4_loss: 0.0791 - dense_5_loss: 0.2616 - dense_6_loss: 0.5047 - dense_2_precision: 0.8537 - dense_2_recall: 0.8537 - dense_3_precision: 0.7116 - dense_3_recall: 0.7116 - dense_4_precision: 0.9841 - dense_4_recall: 0.9841 - dense_5_precision: 0.9265 - dense_5_recall: 0.9265 - dense_6_precision: 0.7879 - dense_6_recall: 0.7879 - val_loss: 1.8221 - val_dense_2_loss: 0.4017 - val_dense_3_loss: 0.5733 - val_dense_4_loss: 0.0769 - val_dense_5_loss: 0.2600 - val_dense_6_loss: 0.5101 - val_dense_2_precision: 0.8535 - val_dense_2_recall: 0.8535 - val_dense_3_precision: 0.7123 - val_dense_3_recall: 0.7123 - val_dense_4_precision: 0.9847 - val_dense_4_recall: 0.9847 - val_dense_5_precision: 0.9268 - val_dense_5_recall: 0.9268 - val_dense_6_precision: 0.7832 - val_dense_6_recall: 0.7832 - 30s/epoch - 29ms/step\n",
            "Epoch 6/100\n",
            "1030/1030 - 30s - loss: 1.8143 - dense_2_loss: 0.3991 - dense_3_loss: 0.5708 - dense_4_loss: 0.0789 - dense_5_loss: 0.2616 - dense_6_loss: 0.5039 - dense_2_precision: 0.8537 - dense_2_recall: 0.8537 - dense_3_precision: 0.7116 - dense_3_recall: 0.7116 - dense_4_precision: 0.9841 - dense_4_recall: 0.9841 - dense_5_precision: 0.9265 - dense_5_recall: 0.9265 - dense_6_precision: 0.7879 - dense_6_recall: 0.7879 - val_loss: 1.8141 - val_dense_2_loss: 0.3994 - val_dense_3_loss: 0.5702 - val_dense_4_loss: 0.0767 - val_dense_5_loss: 0.2600 - val_dense_6_loss: 0.5078 - val_dense_2_precision: 0.8535 - val_dense_2_recall: 0.8535 - val_dense_3_precision: 0.7123 - val_dense_3_recall: 0.7123 - val_dense_4_precision: 0.9847 - val_dense_4_recall: 0.9847 - val_dense_5_precision: 0.9268 - val_dense_5_recall: 0.9268 - val_dense_6_precision: 0.7832 - val_dense_6_recall: 0.7832 - 30s/epoch - 29ms/step\n",
            "Epoch 7/100\n",
            "1030/1030 - 30s - loss: 1.8055 - dense_2_loss: 0.3960 - dense_3_loss: 0.5671 - dense_4_loss: 0.0786 - dense_5_loss: 0.2617 - dense_6_loss: 0.5020 - dense_2_precision: 0.8537 - dense_2_recall: 0.8537 - dense_3_precision: 0.7116 - dense_3_recall: 0.7116 - dense_4_precision: 0.9841 - dense_4_recall: 0.9841 - dense_5_precision: 0.9265 - dense_5_recall: 0.9265 - dense_6_precision: 0.7879 - dense_6_recall: 0.7879 - val_loss: 1.8016 - val_dense_2_loss: 0.3946 - val_dense_3_loss: 0.5649 - val_dense_4_loss: 0.0766 - val_dense_5_loss: 0.2601 - val_dense_6_loss: 0.5055 - val_dense_2_precision: 0.8535 - val_dense_2_recall: 0.8535 - val_dense_3_precision: 0.7123 - val_dense_3_recall: 0.7123 - val_dense_4_precision: 0.9847 - val_dense_4_recall: 0.9847 - val_dense_5_precision: 0.9268 - val_dense_5_recall: 0.9268 - val_dense_6_precision: 0.7832 - val_dense_6_recall: 0.7832 - 30s/epoch - 29ms/step\n",
            "Epoch 8/100\n",
            "1030/1030 - 30s - loss: 1.7834 - dense_2_loss: 0.3878 - dense_3_loss: 0.5572 - dense_4_loss: 0.0784 - dense_5_loss: 0.2621 - dense_6_loss: 0.4979 - dense_2_precision: 0.8537 - dense_2_recall: 0.8537 - dense_3_precision: 0.7116 - dense_3_recall: 0.7116 - dense_4_precision: 0.9841 - dense_4_recall: 0.9841 - dense_5_precision: 0.9265 - dense_5_recall: 0.9265 - dense_6_precision: 0.7879 - dense_6_recall: 0.7879 - val_loss: 1.7643 - val_dense_2_loss: 0.3802 - val_dense_3_loss: 0.5486 - val_dense_4_loss: 0.0761 - val_dense_5_loss: 0.2609 - val_dense_6_loss: 0.4984 - val_dense_2_precision: 0.8535 - val_dense_2_recall: 0.8535 - val_dense_3_precision: 0.7123 - val_dense_3_recall: 0.7123 - val_dense_4_precision: 0.9847 - val_dense_4_recall: 0.9847 - val_dense_5_precision: 0.9268 - val_dense_5_recall: 0.9268 - val_dense_6_precision: 0.7832 - val_dense_6_recall: 0.7832 - 30s/epoch - 29ms/step\n",
            "Epoch 9/100\n",
            "1030/1030 - 30s - loss: 1.7145 - dense_2_loss: 0.3602 - dense_3_loss: 0.5254 - dense_4_loss: 0.0781 - dense_5_loss: 0.2631 - dense_6_loss: 0.4877 - dense_2_precision: 0.8537 - dense_2_recall: 0.8537 - dense_3_precision: 0.7260 - dense_3_recall: 0.7260 - dense_4_precision: 0.9841 - dense_4_recall: 0.9841 - dense_5_precision: 0.9265 - dense_5_recall: 0.9265 - dense_6_precision: 0.7879 - dense_6_recall: 0.7879 - val_loss: 1.6722 - val_dense_2_loss: 0.3423 - val_dense_3_loss: 0.5075 - val_dense_4_loss: 0.0750 - val_dense_5_loss: 0.2621 - val_dense_6_loss: 0.4852 - val_dense_2_precision: 0.8535 - val_dense_2_recall: 0.8535 - val_dense_3_precision: 0.7419 - val_dense_3_recall: 0.7419 - val_dense_4_precision: 0.9847 - val_dense_4_recall: 0.9847 - val_dense_5_precision: 0.9268 - val_dense_5_recall: 0.9268 - val_dense_6_precision: 0.7832 - val_dense_6_recall: 0.7832 - 30s/epoch - 29ms/step\n",
            "Epoch 10/100\n",
            "1030/1030 - 30s - loss: 1.6371 - dense_2_loss: 0.3269 - dense_3_loss: 0.4910 - dense_4_loss: 0.0764 - dense_5_loss: 0.2632 - dense_6_loss: 0.4797 - dense_2_precision: 0.8544 - dense_2_recall: 0.8544 - dense_3_precision: 0.7504 - dense_3_recall: 0.7504 - dense_4_precision: 0.9841 - dense_4_recall: 0.9841 - dense_5_precision: 0.9265 - dense_5_recall: 0.9265 - dense_6_precision: 0.7878 - dense_6_recall: 0.7878 - val_loss: 1.6301 - val_dense_2_loss: 0.3250 - val_dense_3_loss: 0.4882 - val_dense_4_loss: 0.0736 - val_dense_5_loss: 0.2617 - val_dense_6_loss: 0.4816 - val_dense_2_precision: 0.8541 - val_dense_2_recall: 0.8541 - val_dense_3_precision: 0.7471 - val_dense_3_recall: 0.7471 - val_dense_4_precision: 0.9847 - val_dense_4_recall: 0.9847 - val_dense_5_precision: 0.9268 - val_dense_5_recall: 0.9268 - val_dense_6_precision: 0.7834 - val_dense_6_recall: 0.7834 - 30s/epoch - 29ms/step\n",
            "Epoch 11/100\n",
            "1030/1030 - 31s - loss: 1.6087 - dense_2_loss: 0.3171 - dense_3_loss: 0.4768 - dense_4_loss: 0.0754 - dense_5_loss: 0.2614 - dense_6_loss: 0.4780 - dense_2_precision: 0.8549 - dense_2_recall: 0.8549 - dense_3_precision: 0.7572 - dense_3_recall: 0.7572 - dense_4_precision: 0.9841 - dense_4_recall: 0.9841 - dense_5_precision: 0.9265 - dense_5_recall: 0.9265 - dense_6_precision: 0.7878 - dense_6_recall: 0.7878 - val_loss: 1.6108 - val_dense_2_loss: 0.3199 - val_dense_3_loss: 0.4772 - val_dense_4_loss: 0.0734 - val_dense_5_loss: 0.2601 - val_dense_6_loss: 0.4801 - val_dense_2_precision: 0.8540 - val_dense_2_recall: 0.8540 - val_dense_3_precision: 0.7519 - val_dense_3_recall: 0.7519 - val_dense_4_precision: 0.9847 - val_dense_4_recall: 0.9847 - val_dense_5_precision: 0.9268 - val_dense_5_recall: 0.9268 - val_dense_6_precision: 0.7834 - val_dense_6_recall: 0.7834 - 31s/epoch - 30ms/step\n",
            "Epoch 12/100\n",
            "1030/1030 - 30s - loss: 1.5919 - dense_2_loss: 0.3133 - dense_3_loss: 0.4673 - dense_4_loss: 0.0751 - dense_5_loss: 0.2596 - dense_6_loss: 0.4767 - dense_2_precision: 0.8557 - dense_2_recall: 0.8557 - dense_3_precision: 0.7629 - dense_3_recall: 0.7629 - dense_4_precision: 0.9841 - dense_4_recall: 0.9841 - dense_5_precision: 0.9265 - dense_5_recall: 0.9265 - dense_6_precision: 0.7878 - dense_6_recall: 0.7878 - val_loss: 1.5958 - val_dense_2_loss: 0.3167 - val_dense_3_loss: 0.4687 - val_dense_4_loss: 0.0732 - val_dense_5_loss: 0.2588 - val_dense_6_loss: 0.4784 - val_dense_2_precision: 0.8542 - val_dense_2_recall: 0.8542 - val_dense_3_precision: 0.7583 - val_dense_3_recall: 0.7583 - val_dense_4_precision: 0.9847 - val_dense_4_recall: 0.9847 - val_dense_5_precision: 0.9268 - val_dense_5_recall: 0.9268 - val_dense_6_precision: 0.7835 - val_dense_6_recall: 0.7835 - 30s/epoch - 29ms/step\n",
            "Epoch 13/100\n",
            "1030/1030 - 30s - loss: 1.5756 - dense_2_loss: 0.3104 - dense_3_loss: 0.4580 - dense_4_loss: 0.0748 - dense_5_loss: 0.2571 - dense_6_loss: 0.4753 - dense_2_precision: 0.8565 - dense_2_recall: 0.8565 - dense_3_precision: 0.7685 - dense_3_recall: 0.7685 - dense_4_precision: 0.9841 - dense_4_recall: 0.9841 - dense_5_precision: 0.9265 - dense_5_recall: 0.9265 - dense_6_precision: 0.7879 - dense_6_recall: 0.7879 - val_loss: 1.5819 - val_dense_2_loss: 0.3153 - val_dense_3_loss: 0.4595 - val_dense_4_loss: 0.0729 - val_dense_5_loss: 0.2561 - val_dense_6_loss: 0.4781 - val_dense_2_precision: 0.8547 - val_dense_2_recall: 0.8547 - val_dense_3_precision: 0.7637 - val_dense_3_recall: 0.7637 - val_dense_4_precision: 0.9847 - val_dense_4_recall: 0.9847 - val_dense_5_precision: 0.9268 - val_dense_5_recall: 0.9268 - val_dense_6_precision: 0.7832 - val_dense_6_recall: 0.7832 - 30s/epoch - 29ms/step\n",
            "Epoch 14/100\n",
            "1030/1030 - 30s - loss: 1.5616 - dense_2_loss: 0.3090 - dense_3_loss: 0.4493 - dense_4_loss: 0.0746 - dense_5_loss: 0.2542 - dense_6_loss: 0.4745 - dense_2_precision: 0.8566 - dense_2_recall: 0.8566 - dense_3_precision: 0.7744 - dense_3_recall: 0.7744 - dense_4_precision: 0.9841 - dense_4_recall: 0.9841 - dense_5_precision: 0.9265 - dense_5_recall: 0.9265 - dense_6_precision: 0.7880 - dense_6_recall: 0.7880 - val_loss: 1.5678 - val_dense_2_loss: 0.3137 - val_dense_3_loss: 0.4515 - val_dense_4_loss: 0.0726 - val_dense_5_loss: 0.2534 - val_dense_6_loss: 0.4767 - val_dense_2_precision: 0.8544 - val_dense_2_recall: 0.8544 - val_dense_3_precision: 0.7680 - val_dense_3_recall: 0.7680 - val_dense_4_precision: 0.9847 - val_dense_4_recall: 0.9847 - val_dense_5_precision: 0.9268 - val_dense_5_recall: 0.9268 - val_dense_6_precision: 0.7839 - val_dense_6_recall: 0.7839 - 30s/epoch - 29ms/step\n",
            "Epoch 15/100\n",
            "1030/1030 - 30s - loss: 1.5476 - dense_2_loss: 0.3082 - dense_3_loss: 0.4407 - dense_4_loss: 0.0742 - dense_5_loss: 0.2509 - dense_6_loss: 0.4736 - dense_2_precision: 0.8573 - dense_2_recall: 0.8573 - dense_3_precision: 0.7808 - dense_3_recall: 0.7808 - dense_4_precision: 0.9841 - dense_4_recall: 0.9841 - dense_5_precision: 0.9265 - dense_5_recall: 0.9265 - dense_6_precision: 0.7883 - dense_6_recall: 0.7883 - val_loss: 1.5548 - val_dense_2_loss: 0.3128 - val_dense_3_loss: 0.4435 - val_dense_4_loss: 0.0722 - val_dense_5_loss: 0.2501 - val_dense_6_loss: 0.4762 - val_dense_2_precision: 0.8539 - val_dense_2_recall: 0.8539 - val_dense_3_precision: 0.7753 - val_dense_3_recall: 0.7753 - val_dense_4_precision: 0.9847 - val_dense_4_recall: 0.9847 - val_dense_5_precision: 0.9268 - val_dense_5_recall: 0.9268 - val_dense_6_precision: 0.7841 - val_dense_6_recall: 0.7841 - 30s/epoch - 29ms/step\n",
            "Epoch 16/100\n",
            "1030/1030 - 30s - loss: 1.5332 - dense_2_loss: 0.3072 - dense_3_loss: 0.4319 - dense_4_loss: 0.0738 - dense_5_loss: 0.2473 - dense_6_loss: 0.4730 - dense_2_precision: 0.8577 - dense_2_recall: 0.8577 - dense_3_precision: 0.7876 - dense_3_recall: 0.7876 - dense_4_precision: 0.9841 - dense_4_recall: 0.9841 - dense_5_precision: 0.9264 - dense_5_recall: 0.9264 - dense_6_precision: 0.7883 - dense_6_recall: 0.7883 - val_loss: 1.5447 - val_dense_2_loss: 0.3127 - val_dense_3_loss: 0.4362 - val_dense_4_loss: 0.0718 - val_dense_5_loss: 0.2472 - val_dense_6_loss: 0.4768 - val_dense_2_precision: 0.8544 - val_dense_2_recall: 0.8544 - val_dense_3_precision: 0.7806 - val_dense_3_recall: 0.7806 - val_dense_4_precision: 0.9847 - val_dense_4_recall: 0.9847 - val_dense_5_precision: 0.9268 - val_dense_5_recall: 0.9268 - val_dense_6_precision: 0.7836 - val_dense_6_recall: 0.7836 - 30s/epoch - 29ms/step\n",
            "Epoch 17/100\n",
            "1030/1030 - 30s - loss: 1.5206 - dense_2_loss: 0.3067 - dense_3_loss: 0.4239 - dense_4_loss: 0.0735 - dense_5_loss: 0.2439 - dense_6_loss: 0.4726 - dense_2_precision: 0.8582 - dense_2_recall: 0.8582 - dense_3_precision: 0.7940 - dense_3_recall: 0.7940 - dense_4_precision: 0.9841 - dense_4_recall: 0.9841 - dense_5_precision: 0.9265 - dense_5_recall: 0.9265 - dense_6_precision: 0.7882 - dense_6_recall: 0.7882 - val_loss: 1.5298 - val_dense_2_loss: 0.3118 - val_dense_3_loss: 0.4273 - val_dense_4_loss: 0.0713 - val_dense_5_loss: 0.2444 - val_dense_6_loss: 0.4750 - val_dense_2_precision: 0.8548 - val_dense_2_recall: 0.8548 - val_dense_3_precision: 0.7892 - val_dense_3_recall: 0.7892 - val_dense_4_precision: 0.9847 - val_dense_4_recall: 0.9847 - val_dense_5_precision: 0.9269 - val_dense_5_recall: 0.9269 - val_dense_6_precision: 0.7837 - val_dense_6_recall: 0.7837 - 30s/epoch - 29ms/step\n",
            "Epoch 18/100\n",
            "1030/1030 - 30s - loss: 1.5070 - dense_2_loss: 0.3063 - dense_3_loss: 0.4152 - dense_4_loss: 0.0732 - dense_5_loss: 0.2407 - dense_6_loss: 0.4716 - dense_2_precision: 0.8582 - dense_2_recall: 0.8582 - dense_3_precision: 0.8005 - dense_3_recall: 0.8005 - dense_4_precision: 0.9841 - dense_4_recall: 0.9841 - dense_5_precision: 0.9268 - dense_5_recall: 0.9268 - dense_6_precision: 0.7885 - dense_6_recall: 0.7885 - val_loss: 1.5243 - val_dense_2_loss: 0.3129 - val_dense_3_loss: 0.4229 - val_dense_4_loss: 0.0713 - val_dense_5_loss: 0.2414 - val_dense_6_loss: 0.4759 - val_dense_2_precision: 0.8552 - val_dense_2_recall: 0.8552 - val_dense_3_precision: 0.7925 - val_dense_3_recall: 0.7925 - val_dense_4_precision: 0.9847 - val_dense_4_recall: 0.9847 - val_dense_5_precision: 0.9271 - val_dense_5_recall: 0.9271 - val_dense_6_precision: 0.7839 - val_dense_6_recall: 0.7839 - 30s/epoch - 29ms/step\n",
            "Epoch 19/100\n",
            "1030/1030 - 30s - loss: 1.4938 - dense_2_loss: 0.3057 - dense_3_loss: 0.4073 - dense_4_loss: 0.0729 - dense_5_loss: 0.2375 - dense_6_loss: 0.4704 - dense_2_precision: 0.8591 - dense_2_recall: 0.8591 - dense_3_precision: 0.8067 - dense_3_recall: 0.8067 - dense_4_precision: 0.9841 - dense_4_recall: 0.9841 - dense_5_precision: 0.9274 - dense_5_recall: 0.9274 - dense_6_precision: 0.7886 - dense_6_recall: 0.7886 - val_loss: 1.5104 - val_dense_2_loss: 0.3123 - val_dense_3_loss: 0.4158 - val_dense_4_loss: 0.0707 - val_dense_5_loss: 0.2382 - val_dense_6_loss: 0.4734 - val_dense_2_precision: 0.8561 - val_dense_2_recall: 0.8561 - val_dense_3_precision: 0.8045 - val_dense_3_recall: 0.8045 - val_dense_4_precision: 0.9847 - val_dense_4_recall: 0.9847 - val_dense_5_precision: 0.9276 - val_dense_5_recall: 0.9276 - val_dense_6_precision: 0.7847 - val_dense_6_recall: 0.7847 - 30s/epoch - 29ms/step\n",
            "Epoch 20/100\n",
            "1030/1030 - 30s - loss: 1.4817 - dense_2_loss: 0.3055 - dense_3_loss: 0.3996 - dense_4_loss: 0.0728 - dense_5_loss: 0.2343 - dense_6_loss: 0.4694 - dense_2_precision: 0.8594 - dense_2_recall: 0.8594 - dense_3_precision: 0.8139 - dense_3_recall: 0.8139 - dense_4_precision: 0.9841 - dense_4_recall: 0.9841 - dense_5_precision: 0.9282 - dense_5_recall: 0.9282 - dense_6_precision: 0.7891 - dense_6_recall: 0.7891 - val_loss: 1.4967 - val_dense_2_loss: 0.3104 - val_dense_3_loss: 0.4063 - val_dense_4_loss: 0.0705 - val_dense_5_loss: 0.2352 - val_dense_6_loss: 0.4743 - val_dense_2_precision: 0.8566 - val_dense_2_recall: 0.8566 - val_dense_3_precision: 0.8090 - val_dense_3_recall: 0.8090 - val_dense_4_precision: 0.9847 - val_dense_4_recall: 0.9847 - val_dense_5_precision: 0.9286 - val_dense_5_recall: 0.9286 - val_dense_6_precision: 0.7840 - val_dense_6_recall: 0.7840 - 30s/epoch - 29ms/step\n",
            "Epoch 21/100\n",
            "1030/1030 - 30s - loss: 1.4682 - dense_2_loss: 0.3044 - dense_3_loss: 0.3917 - dense_4_loss: 0.0728 - dense_5_loss: 0.2317 - dense_6_loss: 0.4676 - dense_2_precision: 0.8596 - dense_2_recall: 0.8596 - dense_3_precision: 0.8200 - dense_3_recall: 0.8200 - dense_4_precision: 0.9841 - dense_4_recall: 0.9841 - dense_5_precision: 0.9286 - dense_5_recall: 0.9286 - dense_6_precision: 0.7893 - dense_6_recall: 0.7893 - val_loss: 1.4874 - val_dense_2_loss: 0.3113 - val_dense_3_loss: 0.4014 - val_dense_4_loss: 0.0703 - val_dense_5_loss: 0.2323 - val_dense_6_loss: 0.4721 - val_dense_2_precision: 0.8577 - val_dense_2_recall: 0.8577 - val_dense_3_precision: 0.8150 - val_dense_3_recall: 0.8150 - val_dense_4_precision: 0.9847 - val_dense_4_recall: 0.9847 - val_dense_5_precision: 0.9291 - val_dense_5_recall: 0.9291 - val_dense_6_precision: 0.7844 - val_dense_6_recall: 0.7844 - 30s/epoch - 29ms/step\n",
            "Epoch 22/100\n",
            "1030/1030 - 31s - loss: 1.4554 - dense_2_loss: 0.3043 - dense_3_loss: 0.3844 - dense_4_loss: 0.0725 - dense_5_loss: 0.2285 - dense_6_loss: 0.4658 - dense_2_precision: 0.8597 - dense_2_recall: 0.8597 - dense_3_precision: 0.8262 - dense_3_recall: 0.8262 - dense_4_precision: 0.9841 - dense_4_recall: 0.9841 - dense_5_precision: 0.9294 - dense_5_recall: 0.9294 - dense_6_precision: 0.7895 - dense_6_recall: 0.7895 - val_loss: 1.4761 - val_dense_2_loss: 0.3108 - val_dense_3_loss: 0.3956 - val_dense_4_loss: 0.0702 - val_dense_5_loss: 0.2309 - val_dense_6_loss: 0.4685 - val_dense_2_precision: 0.8583 - val_dense_2_recall: 0.8583 - val_dense_3_precision: 0.8201 - val_dense_3_recall: 0.8201 - val_dense_4_precision: 0.9847 - val_dense_4_recall: 0.9847 - val_dense_5_precision: 0.9291 - val_dense_5_recall: 0.9291 - val_dense_6_precision: 0.7871 - val_dense_6_recall: 0.7871 - 31s/epoch - 30ms/step\n",
            "Epoch 23/100\n",
            "1030/1030 - 30s - loss: 1.4429 - dense_2_loss: 0.3033 - dense_3_loss: 0.3782 - dense_4_loss: 0.0724 - dense_5_loss: 0.2259 - dense_6_loss: 0.4630 - dense_2_precision: 0.8602 - dense_2_recall: 0.8602 - dense_3_precision: 0.8317 - dense_3_recall: 0.8317 - dense_4_precision: 0.9841 - dense_4_recall: 0.9841 - dense_5_precision: 0.9297 - dense_5_recall: 0.9297 - dense_6_precision: 0.7902 - dense_6_recall: 0.7902 - val_loss: 1.4624 - val_dense_2_loss: 0.3098 - val_dense_3_loss: 0.3890 - val_dense_4_loss: 0.0700 - val_dense_5_loss: 0.2277 - val_dense_6_loss: 0.4659 - val_dense_2_precision: 0.8578 - val_dense_2_recall: 0.8578 - val_dense_3_precision: 0.8277 - val_dense_3_recall: 0.8277 - val_dense_4_precision: 0.9847 - val_dense_4_recall: 0.9847 - val_dense_5_precision: 0.9299 - val_dense_5_recall: 0.9299 - val_dense_6_precision: 0.7865 - val_dense_6_recall: 0.7865 - 30s/epoch - 29ms/step\n",
            "Epoch 24/100\n",
            "1030/1030 - 30s - loss: 1.4297 - dense_2_loss: 0.3019 - dense_3_loss: 0.3718 - dense_4_loss: 0.0721 - dense_5_loss: 0.2233 - dense_6_loss: 0.4605 - dense_2_precision: 0.8605 - dense_2_recall: 0.8605 - dense_3_precision: 0.8362 - dense_3_recall: 0.8362 - dense_4_precision: 0.9841 - dense_4_recall: 0.9841 - dense_5_precision: 0.9303 - dense_5_recall: 0.9303 - dense_6_precision: 0.7911 - dense_6_recall: 0.7911 - val_loss: 1.4509 - val_dense_2_loss: 0.3100 - val_dense_3_loss: 0.3840 - val_dense_4_loss: 0.0699 - val_dense_5_loss: 0.2248 - val_dense_6_loss: 0.4622 - val_dense_2_precision: 0.8582 - val_dense_2_recall: 0.8582 - val_dense_3_precision: 0.8309 - val_dense_3_recall: 0.8309 - val_dense_4_precision: 0.9847 - val_dense_4_recall: 0.9847 - val_dense_5_precision: 0.9303 - val_dense_5_recall: 0.9303 - val_dense_6_precision: 0.7882 - val_dense_6_recall: 0.7882 - 30s/epoch - 29ms/step\n",
            "Epoch 25/100\n",
            "1030/1030 - 30s - loss: 1.4166 - dense_2_loss: 0.3010 - dense_3_loss: 0.3666 - dense_4_loss: 0.0720 - dense_5_loss: 0.2204 - dense_6_loss: 0.4566 - dense_2_precision: 0.8613 - dense_2_recall: 0.8613 - dense_3_precision: 0.8412 - dense_3_recall: 0.8412 - dense_4_precision: 0.9841 - dense_4_recall: 0.9841 - dense_5_precision: 0.9311 - dense_5_recall: 0.9311 - dense_6_precision: 0.7922 - dense_6_recall: 0.7922 - val_loss: 1.4433 - val_dense_2_loss: 0.3105 - val_dense_3_loss: 0.3813 - val_dense_4_loss: 0.0698 - val_dense_5_loss: 0.2230 - val_dense_6_loss: 0.4588 - val_dense_2_precision: 0.8589 - val_dense_2_recall: 0.8589 - val_dense_3_precision: 0.8330 - val_dense_3_recall: 0.8330 - val_dense_4_precision: 0.9847 - val_dense_4_recall: 0.9847 - val_dense_5_precision: 0.9309 - val_dense_5_recall: 0.9309 - val_dense_6_precision: 0.7903 - val_dense_6_recall: 0.7903 - 30s/epoch - 29ms/step\n",
            "Epoch 26/100\n",
            "1030/1030 - 30s - loss: 1.4040 - dense_2_loss: 0.2995 - dense_3_loss: 0.3622 - dense_4_loss: 0.0717 - dense_5_loss: 0.2183 - dense_6_loss: 0.4524 - dense_2_precision: 0.8626 - dense_2_recall: 0.8626 - dense_3_precision: 0.8438 - dense_3_recall: 0.8438 - dense_4_precision: 0.9841 - dense_4_recall: 0.9841 - dense_5_precision: 0.9314 - dense_5_recall: 0.9314 - dense_6_precision: 0.7940 - dense_6_recall: 0.7940 - val_loss: 1.4312 - val_dense_2_loss: 0.3092 - val_dense_3_loss: 0.3771 - val_dense_4_loss: 0.0695 - val_dense_5_loss: 0.2205 - val_dense_6_loss: 0.4548 - val_dense_2_precision: 0.8579 - val_dense_2_recall: 0.8579 - val_dense_3_precision: 0.8367 - val_dense_3_recall: 0.8367 - val_dense_4_precision: 0.9847 - val_dense_4_recall: 0.9847 - val_dense_5_precision: 0.9315 - val_dense_5_recall: 0.9315 - val_dense_6_precision: 0.7941 - val_dense_6_recall: 0.7941 - 30s/epoch - 29ms/step\n",
            "Epoch 27/100\n",
            "1030/1030 - 30s - loss: 1.3910 - dense_2_loss: 0.2980 - dense_3_loss: 0.3587 - dense_4_loss: 0.0714 - dense_5_loss: 0.2154 - dense_6_loss: 0.4475 - dense_2_precision: 0.8642 - dense_2_recall: 0.8642 - dense_3_precision: 0.8468 - dense_3_recall: 0.8468 - dense_4_precision: 0.9841 - dense_4_recall: 0.9841 - dense_5_precision: 0.9323 - dense_5_recall: 0.9323 - dense_6_precision: 0.7961 - dense_6_recall: 0.7961 - val_loss: 1.4217 - val_dense_2_loss: 0.3086 - val_dense_3_loss: 0.3746 - val_dense_4_loss: 0.0693 - val_dense_5_loss: 0.2190 - val_dense_6_loss: 0.4502 - val_dense_2_precision: 0.8576 - val_dense_2_recall: 0.8576 - val_dense_3_precision: 0.8392 - val_dense_3_recall: 0.8392 - val_dense_4_precision: 0.9847 - val_dense_4_recall: 0.9847 - val_dense_5_precision: 0.9327 - val_dense_5_recall: 0.9327 - val_dense_6_precision: 0.7954 - val_dense_6_recall: 0.7954 - 30s/epoch - 29ms/step\n",
            "Epoch 28/100\n",
            "1030/1030 - 30s - loss: 1.3781 - dense_2_loss: 0.2961 - dense_3_loss: 0.3555 - dense_4_loss: 0.0709 - dense_5_loss: 0.2129 - dense_6_loss: 0.4428 - dense_2_precision: 0.8653 - dense_2_recall: 0.8653 - dense_3_precision: 0.8487 - dense_3_recall: 0.8487 - dense_4_precision: 0.9841 - dense_4_recall: 0.9841 - dense_5_precision: 0.9328 - dense_5_recall: 0.9328 - dense_6_precision: 0.7989 - dense_6_recall: 0.7989 - val_loss: 1.4150 - val_dense_2_loss: 0.3061 - val_dense_3_loss: 0.3766 - val_dense_4_loss: 0.0688 - val_dense_5_loss: 0.2176 - val_dense_6_loss: 0.4459 - val_dense_2_precision: 0.8584 - val_dense_2_recall: 0.8584 - val_dense_3_precision: 0.8368 - val_dense_3_recall: 0.8368 - val_dense_4_precision: 0.9847 - val_dense_4_recall: 0.9847 - val_dense_5_precision: 0.9329 - val_dense_5_recall: 0.9329 - val_dense_6_precision: 0.7991 - val_dense_6_recall: 0.7991 - 30s/epoch - 29ms/step\n",
            "Epoch 29/100\n",
            "1030/1030 - 30s - loss: 1.3659 - dense_2_loss: 0.2944 - dense_3_loss: 0.3530 - dense_4_loss: 0.0706 - dense_5_loss: 0.2102 - dense_6_loss: 0.4378 - dense_2_precision: 0.8664 - dense_2_recall: 0.8664 - dense_3_precision: 0.8506 - dense_3_recall: 0.8506 - dense_4_precision: 0.9841 - dense_4_recall: 0.9841 - dense_5_precision: 0.9341 - dense_5_recall: 0.9341 - dense_6_precision: 0.8026 - dense_6_recall: 0.8026 - val_loss: 1.4079 - val_dense_2_loss: 0.3076 - val_dense_3_loss: 0.3743 - val_dense_4_loss: 0.0687 - val_dense_5_loss: 0.2168 - val_dense_6_loss: 0.4406 - val_dense_2_precision: 0.8618 - val_dense_2_recall: 0.8618 - val_dense_3_precision: 0.8400 - val_dense_3_recall: 0.8400 - val_dense_4_precision: 0.9847 - val_dense_4_recall: 0.9847 - val_dense_5_precision: 0.9345 - val_dense_5_recall: 0.9345 - val_dense_6_precision: 0.8026 - val_dense_6_recall: 0.8026 - 30s/epoch - 29ms/step\n",
            "Epoch 30/100\n",
            "1030/1030 - 30s - loss: 1.3524 - dense_2_loss: 0.2917 - dense_3_loss: 0.3501 - dense_4_loss: 0.0703 - dense_5_loss: 0.2072 - dense_6_loss: 0.4330 - dense_2_precision: 0.8680 - dense_2_recall: 0.8680 - dense_3_precision: 0.8521 - dense_3_recall: 0.8521 - dense_4_precision: 0.9841 - dense_4_recall: 0.9841 - dense_5_precision: 0.9348 - dense_5_recall: 0.9348 - dense_6_precision: 0.8055 - dense_6_recall: 0.8055 - val_loss: 1.3897 - val_dense_2_loss: 0.3034 - val_dense_3_loss: 0.3686 - val_dense_4_loss: 0.0685 - val_dense_5_loss: 0.2129 - val_dense_6_loss: 0.4362 - val_dense_2_precision: 0.8623 - val_dense_2_recall: 0.8623 - val_dense_3_precision: 0.8418 - val_dense_3_recall: 0.8418 - val_dense_4_precision: 0.9847 - val_dense_4_recall: 0.9847 - val_dense_5_precision: 0.9349 - val_dense_5_recall: 0.9349 - val_dense_6_precision: 0.8082 - val_dense_6_recall: 0.8082 - 30s/epoch - 29ms/step\n",
            "Epoch 31/100\n",
            "1030/1030 - 30s - loss: 1.3403 - dense_2_loss: 0.2896 - dense_3_loss: 0.3473 - dense_4_loss: 0.0701 - dense_5_loss: 0.2047 - dense_6_loss: 0.4287 - dense_2_precision: 0.8693 - dense_2_recall: 0.8693 - dense_3_precision: 0.8539 - dense_3_recall: 0.8539 - dense_4_precision: 0.9841 - dense_4_recall: 0.9841 - dense_5_precision: 0.9359 - dense_5_recall: 0.9359 - dense_6_precision: 0.8092 - dense_6_recall: 0.8092 - val_loss: 1.3815 - val_dense_2_loss: 0.3020 - val_dense_3_loss: 0.3691 - val_dense_4_loss: 0.0682 - val_dense_5_loss: 0.2095 - val_dense_6_loss: 0.4327 - val_dense_2_precision: 0.8627 - val_dense_2_recall: 0.8627 - val_dense_3_precision: 0.8421 - val_dense_3_recall: 0.8421 - val_dense_4_precision: 0.9847 - val_dense_4_recall: 0.9847 - val_dense_5_precision: 0.9354 - val_dense_5_recall: 0.9354 - val_dense_6_precision: 0.8114 - val_dense_6_recall: 0.8114 - 30s/epoch - 29ms/step\n",
            "Epoch 32/100\n",
            "1030/1030 - 30s - loss: 1.3284 - dense_2_loss: 0.2872 - dense_3_loss: 0.3455 - dense_4_loss: 0.0698 - dense_5_loss: 0.2018 - dense_6_loss: 0.4241 - dense_2_precision: 0.8712 - dense_2_recall: 0.8712 - dense_3_precision: 0.8553 - dense_3_recall: 0.8553 - dense_4_precision: 0.9841 - dense_4_recall: 0.9841 - dense_5_precision: 0.9367 - dense_5_recall: 0.9367 - dense_6_precision: 0.8129 - dense_6_recall: 0.8129 - val_loss: 1.3826 - val_dense_2_loss: 0.3028 - val_dense_3_loss: 0.3678 - val_dense_4_loss: 0.0682 - val_dense_5_loss: 0.2105 - val_dense_6_loss: 0.4332 - val_dense_2_precision: 0.8638 - val_dense_2_recall: 0.8638 - val_dense_3_precision: 0.8419 - val_dense_3_recall: 0.8419 - val_dense_4_precision: 0.9847 - val_dense_4_recall: 0.9847 - val_dense_5_precision: 0.9349 - val_dense_5_recall: 0.9349 - val_dense_6_precision: 0.8106 - val_dense_6_recall: 0.8106 - 30s/epoch - 29ms/step\n",
            "Epoch 33/100\n",
            "1030/1030 - 30s - loss: 1.3174 - dense_2_loss: 0.2852 - dense_3_loss: 0.3435 - dense_4_loss: 0.0696 - dense_5_loss: 0.1989 - dense_6_loss: 0.4203 - dense_2_precision: 0.8726 - dense_2_recall: 0.8726 - dense_3_precision: 0.8561 - dense_3_recall: 0.8561 - dense_4_precision: 0.9841 - dense_4_recall: 0.9841 - dense_5_precision: 0.9376 - dense_5_recall: 0.9376 - dense_6_precision: 0.8154 - dense_6_recall: 0.8154 - val_loss: 1.3656 - val_dense_2_loss: 0.3000 - val_dense_3_loss: 0.3674 - val_dense_4_loss: 0.0683 - val_dense_5_loss: 0.2054 - val_dense_6_loss: 0.4244 - val_dense_2_precision: 0.8656 - val_dense_2_recall: 0.8656 - val_dense_3_precision: 0.8428 - val_dense_3_recall: 0.8428 - val_dense_4_precision: 0.9847 - val_dense_4_recall: 0.9847 - val_dense_5_precision: 0.9366 - val_dense_5_recall: 0.9366 - val_dense_6_precision: 0.8147 - val_dense_6_recall: 0.8147 - 30s/epoch - 29ms/step\n",
            "Epoch 34/100\n",
            "1030/1030 - 30s - loss: 1.3063 - dense_2_loss: 0.2823 - dense_3_loss: 0.3414 - dense_4_loss: 0.0695 - dense_5_loss: 0.1965 - dense_6_loss: 0.4167 - dense_2_precision: 0.8752 - dense_2_recall: 0.8752 - dense_3_precision: 0.8578 - dense_3_recall: 0.8578 - dense_4_precision: 0.9841 - dense_4_recall: 0.9841 - dense_5_precision: 0.9384 - dense_5_recall: 0.9384 - dense_6_precision: 0.8174 - dense_6_recall: 0.8174 - val_loss: 1.3584 - val_dense_2_loss: 0.2978 - val_dense_3_loss: 0.3655 - val_dense_4_loss: 0.0684 - val_dense_5_loss: 0.2043 - val_dense_6_loss: 0.4224 - val_dense_2_precision: 0.8689 - val_dense_2_recall: 0.8689 - val_dense_3_precision: 0.8441 - val_dense_3_recall: 0.8441 - val_dense_4_precision: 0.9847 - val_dense_4_recall: 0.9847 - val_dense_5_precision: 0.9365 - val_dense_5_recall: 0.9365 - val_dense_6_precision: 0.8154 - val_dense_6_recall: 0.8154 - 30s/epoch - 29ms/step\n",
            "Epoch 35/100\n",
            "1030/1030 - 30s - loss: 1.2963 - dense_2_loss: 0.2800 - dense_3_loss: 0.3402 - dense_4_loss: 0.0694 - dense_5_loss: 0.1941 - dense_6_loss: 0.4125 - dense_2_precision: 0.8770 - dense_2_recall: 0.8770 - dense_3_precision: 0.8578 - dense_3_recall: 0.8578 - dense_4_precision: 0.9841 - dense_4_recall: 0.9841 - dense_5_precision: 0.9393 - dense_5_recall: 0.9393 - dense_6_precision: 0.8199 - dense_6_recall: 0.8199 - val_loss: 1.3466 - val_dense_2_loss: 0.2958 - val_dense_3_loss: 0.3630 - val_dense_4_loss: 0.0681 - val_dense_5_loss: 0.2004 - val_dense_6_loss: 0.4193 - val_dense_2_precision: 0.8709 - val_dense_2_recall: 0.8709 - val_dense_3_precision: 0.8464 - val_dense_3_recall: 0.8464 - val_dense_4_precision: 0.9847 - val_dense_4_recall: 0.9847 - val_dense_5_precision: 0.9378 - val_dense_5_recall: 0.9378 - val_dense_6_precision: 0.8191 - val_dense_6_recall: 0.8191 - 30s/epoch - 29ms/step\n",
            "Epoch 36/100\n",
            "1030/1030 - 30s - loss: 1.2854 - dense_2_loss: 0.2773 - dense_3_loss: 0.3380 - dense_4_loss: 0.0692 - dense_5_loss: 0.1913 - dense_6_loss: 0.4095 - dense_2_precision: 0.8797 - dense_2_recall: 0.8797 - dense_3_precision: 0.8592 - dense_3_recall: 0.8592 - dense_4_precision: 0.9841 - dense_4_recall: 0.9841 - dense_5_precision: 0.9399 - dense_5_recall: 0.9399 - dense_6_precision: 0.8221 - dense_6_recall: 0.8221 - val_loss: 1.3419 - val_dense_2_loss: 0.2947 - val_dense_3_loss: 0.3618 - val_dense_4_loss: 0.0682 - val_dense_5_loss: 0.1986 - val_dense_6_loss: 0.4188 - val_dense_2_precision: 0.8714 - val_dense_2_recall: 0.8714 - val_dense_3_precision: 0.8470 - val_dense_3_recall: 0.8470 - val_dense_4_precision: 0.9847 - val_dense_4_recall: 0.9847 - val_dense_5_precision: 0.9381 - val_dense_5_recall: 0.9381 - val_dense_6_precision: 0.8183 - val_dense_6_recall: 0.8183 - 30s/epoch - 29ms/step\n",
            "Epoch 37/100\n",
            "1030/1030 - 30s - loss: 1.2746 - dense_2_loss: 0.2745 - dense_3_loss: 0.3360 - dense_4_loss: 0.0691 - dense_5_loss: 0.1891 - dense_6_loss: 0.4059 - dense_2_precision: 0.8819 - dense_2_recall: 0.8819 - dense_3_precision: 0.8597 - dense_3_recall: 0.8597 - dense_4_precision: 0.9841 - dense_4_recall: 0.9841 - dense_5_precision: 0.9410 - dense_5_recall: 0.9410 - dense_6_precision: 0.8241 - dense_6_recall: 0.8241 - val_loss: 1.3317 - val_dense_2_loss: 0.2912 - val_dense_3_loss: 0.3605 - val_dense_4_loss: 0.0681 - val_dense_5_loss: 0.1987 - val_dense_6_loss: 0.4133 - val_dense_2_precision: 0.8732 - val_dense_2_recall: 0.8732 - val_dense_3_precision: 0.8469 - val_dense_3_recall: 0.8469 - val_dense_4_precision: 0.9847 - val_dense_4_recall: 0.9847 - val_dense_5_precision: 0.9380 - val_dense_5_recall: 0.9380 - val_dense_6_precision: 0.8206 - val_dense_6_recall: 0.8206 - 30s/epoch - 29ms/step\n",
            "Epoch 38/100\n",
            "1030/1030 - 30s - loss: 1.2653 - dense_2_loss: 0.2718 - dense_3_loss: 0.3349 - dense_4_loss: 0.0690 - dense_5_loss: 0.1869 - dense_6_loss: 0.4027 - dense_2_precision: 0.8828 - dense_2_recall: 0.8828 - dense_3_precision: 0.8611 - dense_3_recall: 0.8611 - dense_4_precision: 0.9841 - dense_4_recall: 0.9841 - dense_5_precision: 0.9414 - dense_5_recall: 0.9414 - dense_6_precision: 0.8258 - dense_6_recall: 0.8258 - val_loss: 1.3305 - val_dense_2_loss: 0.2921 - val_dense_3_loss: 0.3618 - val_dense_4_loss: 0.0681 - val_dense_5_loss: 0.1968 - val_dense_6_loss: 0.4117 - val_dense_2_precision: 0.8752 - val_dense_2_recall: 0.8752 - val_dense_3_precision: 0.8472 - val_dense_3_recall: 0.8472 - val_dense_4_precision: 0.9847 - val_dense_4_recall: 0.9847 - val_dense_5_precision: 0.9386 - val_dense_5_recall: 0.9386 - val_dense_6_precision: 0.8243 - val_dense_6_recall: 0.8243 - 30s/epoch - 29ms/step\n",
            "Epoch 39/100\n",
            "1030/1030 - 30s - loss: 1.2548 - dense_2_loss: 0.2693 - dense_3_loss: 0.3332 - dense_4_loss: 0.0688 - dense_5_loss: 0.1850 - dense_6_loss: 0.3985 - dense_2_precision: 0.8850 - dense_2_recall: 0.8850 - dense_3_precision: 0.8618 - dense_3_recall: 0.8618 - dense_4_precision: 0.9841 - dense_4_recall: 0.9841 - dense_5_precision: 0.9418 - dense_5_recall: 0.9418 - dense_6_precision: 0.8282 - dense_6_recall: 0.8282 - val_loss: 1.3335 - val_dense_2_loss: 0.2934 - val_dense_3_loss: 0.3617 - val_dense_4_loss: 0.0678 - val_dense_5_loss: 0.1995 - val_dense_6_loss: 0.4111 - val_dense_2_precision: 0.8755 - val_dense_2_recall: 0.8755 - val_dense_3_precision: 0.8460 - val_dense_3_recall: 0.8460 - val_dense_4_precision: 0.9847 - val_dense_4_recall: 0.9847 - val_dense_5_precision: 0.9390 - val_dense_5_recall: 0.9390 - val_dense_6_precision: 0.8228 - val_dense_6_recall: 0.8228 - 30s/epoch - 29ms/step\n",
            "Epoch 40/100\n",
            "1030/1030 - 30s - loss: 1.2453 - dense_2_loss: 0.2666 - dense_3_loss: 0.3312 - dense_4_loss: 0.0687 - dense_5_loss: 0.1838 - dense_6_loss: 0.3950 - dense_2_precision: 0.8869 - dense_2_recall: 0.8869 - dense_3_precision: 0.8630 - dense_3_recall: 0.8630 - dense_4_precision: 0.9841 - dense_4_recall: 0.9841 - dense_5_precision: 0.9428 - dense_5_recall: 0.9428 - dense_6_precision: 0.8300 - dense_6_recall: 0.8300 - val_loss: 1.3152 - val_dense_2_loss: 0.2856 - val_dense_3_loss: 0.3580 - val_dense_4_loss: 0.0678 - val_dense_5_loss: 0.1947 - val_dense_6_loss: 0.4092 - val_dense_2_precision: 0.8802 - val_dense_2_recall: 0.8802 - val_dense_3_precision: 0.8498 - val_dense_3_recall: 0.8498 - val_dense_4_precision: 0.9847 - val_dense_4_recall: 0.9847 - val_dense_5_precision: 0.9393 - val_dense_5_recall: 0.9393 - val_dense_6_precision: 0.8236 - val_dense_6_recall: 0.8236 - 30s/epoch - 29ms/step\n",
            "Epoch 41/100\n",
            "1030/1030 - 30s - loss: 1.2338 - dense_2_loss: 0.2633 - dense_3_loss: 0.3291 - dense_4_loss: 0.0684 - dense_5_loss: 0.1821 - dense_6_loss: 0.3908 - dense_2_precision: 0.8888 - dense_2_recall: 0.8888 - dense_3_precision: 0.8638 - dense_3_recall: 0.8638 - dense_4_precision: 0.9841 - dense_4_recall: 0.9841 - dense_5_precision: 0.9429 - dense_5_recall: 0.9429 - dense_6_precision: 0.8322 - dense_6_recall: 0.8322 - val_loss: 1.3073 - val_dense_2_loss: 0.2836 - val_dense_3_loss: 0.3559 - val_dense_4_loss: 0.0677 - val_dense_5_loss: 0.1960 - val_dense_6_loss: 0.4040 - val_dense_2_precision: 0.8820 - val_dense_2_recall: 0.8820 - val_dense_3_precision: 0.8513 - val_dense_3_recall: 0.8513 - val_dense_4_precision: 0.9847 - val_dense_4_recall: 0.9847 - val_dense_5_precision: 0.9398 - val_dense_5_recall: 0.9398 - val_dense_6_precision: 0.8280 - val_dense_6_recall: 0.8280 - 30s/epoch - 29ms/step\n",
            "Epoch 42/100\n",
            "1030/1030 - 30s - loss: 1.2253 - dense_2_loss: 0.2612 - dense_3_loss: 0.3281 - dense_4_loss: 0.0684 - dense_5_loss: 0.1807 - dense_6_loss: 0.3869 - dense_2_precision: 0.8904 - dense_2_recall: 0.8904 - dense_3_precision: 0.8647 - dense_3_recall: 0.8647 - dense_4_precision: 0.9841 - dense_4_recall: 0.9841 - dense_5_precision: 0.9434 - dense_5_recall: 0.9434 - dense_6_precision: 0.8332 - dense_6_recall: 0.8332 - val_loss: 1.2998 - val_dense_2_loss: 0.2823 - val_dense_3_loss: 0.3543 - val_dense_4_loss: 0.0675 - val_dense_5_loss: 0.1941 - val_dense_6_loss: 0.4016 - val_dense_2_precision: 0.8830 - val_dense_2_recall: 0.8830 - val_dense_3_precision: 0.8520 - val_dense_3_recall: 0.8520 - val_dense_4_precision: 0.9847 - val_dense_4_recall: 0.9847 - val_dense_5_precision: 0.9397 - val_dense_5_recall: 0.9397 - val_dense_6_precision: 0.8298 - val_dense_6_recall: 0.8298 - 30s/epoch - 29ms/step\n",
            "Epoch 43/100\n",
            "1030/1030 - 30s - loss: 1.2136 - dense_2_loss: 0.2579 - dense_3_loss: 0.3254 - dense_4_loss: 0.0683 - dense_5_loss: 0.1790 - dense_6_loss: 0.3829 - dense_2_precision: 0.8922 - dense_2_recall: 0.8922 - dense_3_precision: 0.8657 - dense_3_recall: 0.8657 - dense_4_precision: 0.9841 - dense_4_recall: 0.9841 - dense_5_precision: 0.9439 - dense_5_recall: 0.9439 - dense_6_precision: 0.8362 - dense_6_recall: 0.8362 - val_loss: 1.2936 - val_dense_2_loss: 0.2805 - val_dense_3_loss: 0.3544 - val_dense_4_loss: 0.0672 - val_dense_5_loss: 0.1908 - val_dense_6_loss: 0.4007 - val_dense_2_precision: 0.8833 - val_dense_2_recall: 0.8833 - val_dense_3_precision: 0.8521 - val_dense_3_recall: 0.8521 - val_dense_4_precision: 0.9847 - val_dense_4_recall: 0.9847 - val_dense_5_precision: 0.9406 - val_dense_5_recall: 0.9406 - val_dense_6_precision: 0.8291 - val_dense_6_recall: 0.8291 - 30s/epoch - 29ms/step\n",
            "Epoch 44/100\n",
            "1030/1030 - 30s - loss: 1.2038 - dense_2_loss: 0.2556 - dense_3_loss: 0.3237 - dense_4_loss: 0.0682 - dense_5_loss: 0.1780 - dense_6_loss: 0.3782 - dense_2_precision: 0.8938 - dense_2_recall: 0.8938 - dense_3_precision: 0.8670 - dense_3_recall: 0.8670 - dense_4_precision: 0.9841 - dense_4_recall: 0.9841 - dense_5_precision: 0.9442 - dense_5_recall: 0.9442 - dense_6_precision: 0.8387 - dense_6_recall: 0.8387 - val_loss: 1.2882 - val_dense_2_loss: 0.2787 - val_dense_3_loss: 0.3533 - val_dense_4_loss: 0.0670 - val_dense_5_loss: 0.1935 - val_dense_6_loss: 0.3958 - val_dense_2_precision: 0.8843 - val_dense_2_recall: 0.8843 - val_dense_3_precision: 0.8517 - val_dense_3_recall: 0.8517 - val_dense_4_precision: 0.9847 - val_dense_4_recall: 0.9847 - val_dense_5_precision: 0.9402 - val_dense_5_recall: 0.9402 - val_dense_6_precision: 0.8332 - val_dense_6_recall: 0.8332 - 30s/epoch - 29ms/step\n",
            "Epoch 45/100\n",
            "1030/1030 - 30s - loss: 1.1945 - dense_2_loss: 0.2531 - dense_3_loss: 0.3224 - dense_4_loss: 0.0680 - dense_5_loss: 0.1769 - dense_6_loss: 0.3742 - dense_2_precision: 0.8954 - dense_2_recall: 0.8954 - dense_3_precision: 0.8675 - dense_3_recall: 0.8675 - dense_4_precision: 0.9841 - dense_4_recall: 0.9841 - dense_5_precision: 0.9444 - dense_5_recall: 0.9444 - dense_6_precision: 0.8411 - dense_6_recall: 0.8411 - val_loss: 1.2804 - val_dense_2_loss: 0.2764 - val_dense_3_loss: 0.3537 - val_dense_4_loss: 0.0670 - val_dense_5_loss: 0.1913 - val_dense_6_loss: 0.3920 - val_dense_2_precision: 0.8851 - val_dense_2_recall: 0.8851 - val_dense_3_precision: 0.8515 - val_dense_3_recall: 0.8515 - val_dense_4_precision: 0.9847 - val_dense_4_recall: 0.9847 - val_dense_5_precision: 0.9402 - val_dense_5_recall: 0.9402 - val_dense_6_precision: 0.8362 - val_dense_6_recall: 0.8362 - 30s/epoch - 29ms/step\n",
            "Epoch 46/100\n",
            "1030/1030 - 30s - loss: 1.1840 - dense_2_loss: 0.2500 - dense_3_loss: 0.3205 - dense_4_loss: 0.0679 - dense_5_loss: 0.1762 - dense_6_loss: 0.3694 - dense_2_precision: 0.8980 - dense_2_recall: 0.8980 - dense_3_precision: 0.8686 - dense_3_recall: 0.8686 - dense_4_precision: 0.9841 - dense_4_recall: 0.9841 - dense_5_precision: 0.9446 - dense_5_recall: 0.9446 - dense_6_precision: 0.8443 - dense_6_recall: 0.8443 - val_loss: 1.2693 - val_dense_2_loss: 0.2742 - val_dense_3_loss: 0.3499 - val_dense_4_loss: 0.0671 - val_dense_5_loss: 0.1895 - val_dense_6_loss: 0.3885 - val_dense_2_precision: 0.8867 - val_dense_2_recall: 0.8867 - val_dense_3_precision: 0.8556 - val_dense_3_recall: 0.8556 - val_dense_4_precision: 0.9847 - val_dense_4_recall: 0.9847 - val_dense_5_precision: 0.9406 - val_dense_5_recall: 0.9406 - val_dense_6_precision: 0.8389 - val_dense_6_recall: 0.8389 - 30s/epoch - 29ms/step\n",
            "Epoch 47/100\n",
            "1030/1030 - 30s - loss: 1.1748 - dense_2_loss: 0.2477 - dense_3_loss: 0.3186 - dense_4_loss: 0.0679 - dense_5_loss: 0.1750 - dense_6_loss: 0.3656 - dense_2_precision: 0.8987 - dense_2_recall: 0.8987 - dense_3_precision: 0.8699 - dense_3_recall: 0.8699 - dense_4_precision: 0.9841 - dense_4_recall: 0.9841 - dense_5_precision: 0.9450 - dense_5_recall: 0.9450 - dense_6_precision: 0.8467 - dense_6_recall: 0.8467 - val_loss: 1.2647 - val_dense_2_loss: 0.2720 - val_dense_3_loss: 0.3478 - val_dense_4_loss: 0.0677 - val_dense_5_loss: 0.1896 - val_dense_6_loss: 0.3876 - val_dense_2_precision: 0.8888 - val_dense_2_recall: 0.8888 - val_dense_3_precision: 0.8552 - val_dense_3_recall: 0.8552 - val_dense_4_precision: 0.9847 - val_dense_4_recall: 0.9847 - val_dense_5_precision: 0.9402 - val_dense_5_recall: 0.9402 - val_dense_6_precision: 0.8410 - val_dense_6_recall: 0.8410 - 30s/epoch - 29ms/step\n",
            "Epoch 48/100\n",
            "1030/1030 - 30s - loss: 1.1661 - dense_2_loss: 0.2450 - dense_3_loss: 0.3169 - dense_4_loss: 0.0680 - dense_5_loss: 0.1745 - dense_6_loss: 0.3618 - dense_2_precision: 0.9001 - dense_2_recall: 0.9001 - dense_3_precision: 0.8707 - dense_3_recall: 0.8707 - dense_4_precision: 0.9841 - dense_4_recall: 0.9841 - dense_5_precision: 0.9450 - dense_5_recall: 0.9450 - dense_6_precision: 0.8485 - dense_6_recall: 0.8485 - val_loss: 1.2574 - val_dense_2_loss: 0.2698 - val_dense_3_loss: 0.3459 - val_dense_4_loss: 0.0671 - val_dense_5_loss: 0.1900 - val_dense_6_loss: 0.3846 - val_dense_2_precision: 0.8896 - val_dense_2_recall: 0.8896 - val_dense_3_precision: 0.8557 - val_dense_3_recall: 0.8557 - val_dense_4_precision: 0.9847 - val_dense_4_recall: 0.9847 - val_dense_5_precision: 0.9409 - val_dense_5_recall: 0.9409 - val_dense_6_precision: 0.8403 - val_dense_6_recall: 0.8403 - 30s/epoch - 29ms/step\n",
            "Epoch 49/100\n",
            "1030/1030 - 30s - loss: 1.1563 - dense_2_loss: 0.2417 - dense_3_loss: 0.3147 - dense_4_loss: 0.0681 - dense_5_loss: 0.1737 - dense_6_loss: 0.3580 - dense_2_precision: 0.9026 - dense_2_recall: 0.9026 - dense_3_precision: 0.8713 - dense_3_recall: 0.8713 - dense_4_precision: 0.9841 - dense_4_recall: 0.9841 - dense_5_precision: 0.9450 - dense_5_recall: 0.9450 - dense_6_precision: 0.8509 - dense_6_recall: 0.8509 - val_loss: 1.2732 - val_dense_2_loss: 0.2732 - val_dense_3_loss: 0.3556 - val_dense_4_loss: 0.0669 - val_dense_5_loss: 0.1957 - val_dense_6_loss: 0.3818 - val_dense_2_precision: 0.8865 - val_dense_2_recall: 0.8865 - val_dense_3_precision: 0.8492 - val_dense_3_recall: 0.8492 - val_dense_4_precision: 0.9847 - val_dense_4_recall: 0.9847 - val_dense_5_precision: 0.9408 - val_dense_5_recall: 0.9408 - val_dense_6_precision: 0.8421 - val_dense_6_recall: 0.8421 - 30s/epoch - 29ms/step\n",
            "Epoch 50/100\n",
            "1030/1030 - 30s - loss: 1.1475 - dense_2_loss: 0.2391 - dense_3_loss: 0.3129 - dense_4_loss: 0.0680 - dense_5_loss: 0.1726 - dense_6_loss: 0.3550 - dense_2_precision: 0.9033 - dense_2_recall: 0.9033 - dense_3_precision: 0.8726 - dense_3_recall: 0.8726 - dense_4_precision: 0.9841 - dense_4_recall: 0.9841 - dense_5_precision: 0.9454 - dense_5_recall: 0.9454 - dense_6_precision: 0.8522 - dense_6_recall: 0.8522 - val_loss: 1.2466 - val_dense_2_loss: 0.2659 - val_dense_3_loss: 0.3443 - val_dense_4_loss: 0.0671 - val_dense_5_loss: 0.1900 - val_dense_6_loss: 0.3794 - val_dense_2_precision: 0.8923 - val_dense_2_recall: 0.8923 - val_dense_3_precision: 0.8576 - val_dense_3_recall: 0.8576 - val_dense_4_precision: 0.9847 - val_dense_4_recall: 0.9847 - val_dense_5_precision: 0.9414 - val_dense_5_recall: 0.9414 - val_dense_6_precision: 0.8439 - val_dense_6_recall: 0.8439 - 30s/epoch - 29ms/step\n",
            "Epoch 51/100\n",
            "1030/1030 - 30s - loss: 1.1388 - dense_2_loss: 0.2362 - dense_3_loss: 0.3113 - dense_4_loss: 0.0679 - dense_5_loss: 0.1719 - dense_6_loss: 0.3514 - dense_2_precision: 0.9057 - dense_2_recall: 0.9057 - dense_3_precision: 0.8738 - dense_3_recall: 0.8738 - dense_4_precision: 0.9841 - dense_4_recall: 0.9841 - dense_5_precision: 0.9457 - dense_5_recall: 0.9457 - dense_6_precision: 0.8545 - dense_6_recall: 0.8545 - val_loss: 1.2514 - val_dense_2_loss: 0.2653 - val_dense_3_loss: 0.3463 - val_dense_4_loss: 0.0670 - val_dense_5_loss: 0.1890 - val_dense_6_loss: 0.3837 - val_dense_2_precision: 0.8927 - val_dense_2_recall: 0.8927 - val_dense_3_precision: 0.8576 - val_dense_3_recall: 0.8576 - val_dense_4_precision: 0.9847 - val_dense_4_recall: 0.9847 - val_dense_5_precision: 0.9407 - val_dense_5_recall: 0.9407 - val_dense_6_precision: 0.8433 - val_dense_6_recall: 0.8433 - 30s/epoch - 29ms/step\n",
            "Epoch 52/100\n",
            "1030/1030 - 30s - loss: 1.1317 - dense_2_loss: 0.2339 - dense_3_loss: 0.3099 - dense_4_loss: 0.0678 - dense_5_loss: 0.1712 - dense_6_loss: 0.3490 - dense_2_precision: 0.9070 - dense_2_recall: 0.9070 - dense_3_precision: 0.8745 - dense_3_recall: 0.8745 - dense_4_precision: 0.9841 - dense_4_recall: 0.9841 - dense_5_precision: 0.9457 - dense_5_recall: 0.9457 - dense_6_precision: 0.8556 - dense_6_recall: 0.8556 - val_loss: 1.2384 - val_dense_2_loss: 0.2618 - val_dense_3_loss: 0.3440 - val_dense_4_loss: 0.0670 - val_dense_5_loss: 0.1892 - val_dense_6_loss: 0.3764 - val_dense_2_precision: 0.8940 - val_dense_2_recall: 0.8940 - val_dense_3_precision: 0.8589 - val_dense_3_recall: 0.8589 - val_dense_4_precision: 0.9847 - val_dense_4_recall: 0.9847 - val_dense_5_precision: 0.9413 - val_dense_5_recall: 0.9413 - val_dense_6_precision: 0.8473 - val_dense_6_recall: 0.8473 - 30s/epoch - 29ms/step\n",
            "Epoch 53/100\n",
            "1030/1030 - 30s - loss: 1.1231 - dense_2_loss: 0.2311 - dense_3_loss: 0.3077 - dense_4_loss: 0.0679 - dense_5_loss: 0.1701 - dense_6_loss: 0.3462 - dense_2_precision: 0.9079 - dense_2_recall: 0.9079 - dense_3_precision: 0.8754 - dense_3_recall: 0.8754 - dense_4_precision: 0.9841 - dense_4_recall: 0.9841 - dense_5_precision: 0.9459 - dense_5_recall: 0.9459 - dense_6_precision: 0.8567 - dense_6_recall: 0.8567 - val_loss: 1.2338 - val_dense_2_loss: 0.2614 - val_dense_3_loss: 0.3429 - val_dense_4_loss: 0.0666 - val_dense_5_loss: 0.1879 - val_dense_6_loss: 0.3750 - val_dense_2_precision: 0.8948 - val_dense_2_recall: 0.8948 - val_dense_3_precision: 0.8579 - val_dense_3_recall: 0.8579 - val_dense_4_precision: 0.9847 - val_dense_4_recall: 0.9847 - val_dense_5_precision: 0.9409 - val_dense_5_recall: 0.9409 - val_dense_6_precision: 0.8466 - val_dense_6_recall: 0.8466 - 30s/epoch - 29ms/step\n",
            "Epoch 54/100\n",
            "1030/1030 - 30s - loss: 1.1159 - dense_2_loss: 0.2286 - dense_3_loss: 0.3060 - dense_4_loss: 0.0678 - dense_5_loss: 0.1695 - dense_6_loss: 0.3441 - dense_2_precision: 0.9093 - dense_2_recall: 0.9093 - dense_3_precision: 0.8760 - dense_3_recall: 0.8760 - dense_4_precision: 0.9841 - dense_4_recall: 0.9841 - dense_5_precision: 0.9464 - dense_5_recall: 0.9464 - dense_6_precision: 0.8588 - dense_6_recall: 0.8588 - val_loss: 1.2376 - val_dense_2_loss: 0.2575 - val_dense_3_loss: 0.3407 - val_dense_4_loss: 0.0668 - val_dense_5_loss: 0.1875 - val_dense_6_loss: 0.3851 - val_dense_2_precision: 0.8965 - val_dense_2_recall: 0.8965 - val_dense_3_precision: 0.8599 - val_dense_3_recall: 0.8599 - val_dense_4_precision: 0.9847 - val_dense_4_recall: 0.9847 - val_dense_5_precision: 0.9407 - val_dense_5_recall: 0.9407 - val_dense_6_precision: 0.8449 - val_dense_6_recall: 0.8449 - 30s/epoch - 29ms/step\n",
            "Epoch 55/100\n",
            "1030/1030 - 30s - loss: 1.1097 - dense_2_loss: 0.2264 - dense_3_loss: 0.3046 - dense_4_loss: 0.0676 - dense_5_loss: 0.1689 - dense_6_loss: 0.3421 - dense_2_precision: 0.9109 - dense_2_recall: 0.9109 - dense_3_precision: 0.8770 - dense_3_recall: 0.8770 - dense_4_precision: 0.9841 - dense_4_recall: 0.9841 - dense_5_precision: 0.9466 - dense_5_recall: 0.9466 - dense_6_precision: 0.8593 - dense_6_recall: 0.8593 - val_loss: 1.2204 - val_dense_2_loss: 0.2553 - val_dense_3_loss: 0.3387 - val_dense_4_loss: 0.0665 - val_dense_5_loss: 0.1872 - val_dense_6_loss: 0.3727 - val_dense_2_precision: 0.8980 - val_dense_2_recall: 0.8980 - val_dense_3_precision: 0.8611 - val_dense_3_recall: 0.8611 - val_dense_4_precision: 0.9847 - val_dense_4_recall: 0.9847 - val_dense_5_precision: 0.9417 - val_dense_5_recall: 0.9417 - val_dense_6_precision: 0.8469 - val_dense_6_recall: 0.8469 - 30s/epoch - 29ms/step\n",
            "Epoch 56/100\n",
            "1030/1030 - 30s - loss: 1.1019 - dense_2_loss: 0.2233 - dense_3_loss: 0.3032 - dense_4_loss: 0.0676 - dense_5_loss: 0.1683 - dense_6_loss: 0.3396 - dense_2_precision: 0.9125 - dense_2_recall: 0.9125 - dense_3_precision: 0.8776 - dense_3_recall: 0.8776 - dense_4_precision: 0.9841 - dense_4_recall: 0.9841 - dense_5_precision: 0.9465 - dense_5_recall: 0.9465 - dense_6_precision: 0.8597 - dense_6_recall: 0.8597 - val_loss: 1.2312 - val_dense_2_loss: 0.2569 - val_dense_3_loss: 0.3383 - val_dense_4_loss: 0.0666 - val_dense_5_loss: 0.1922 - val_dense_6_loss: 0.3772 - val_dense_2_precision: 0.8968 - val_dense_2_recall: 0.8968 - val_dense_3_precision: 0.8604 - val_dense_3_recall: 0.8604 - val_dense_4_precision: 0.9847 - val_dense_4_recall: 0.9847 - val_dense_5_precision: 0.9418 - val_dense_5_recall: 0.9418 - val_dense_6_precision: 0.8479 - val_dense_6_recall: 0.8479 - 30s/epoch - 29ms/step\n",
            "Epoch 57/100\n",
            "1030/1030 - 30s - loss: 1.0953 - dense_2_loss: 0.2212 - dense_3_loss: 0.3014 - dense_4_loss: 0.0673 - dense_5_loss: 0.1673 - dense_6_loss: 0.3380 - dense_2_precision: 0.9136 - dense_2_recall: 0.9136 - dense_3_precision: 0.8784 - dense_3_recall: 0.8784 - dense_4_precision: 0.9841 - dense_4_recall: 0.9841 - dense_5_precision: 0.9469 - dense_5_recall: 0.9469 - dense_6_precision: 0.8614 - dense_6_recall: 0.8614 - val_loss: 1.2153 - val_dense_2_loss: 0.2523 - val_dense_3_loss: 0.3362 - val_dense_4_loss: 0.0665 - val_dense_5_loss: 0.1882 - val_dense_6_loss: 0.3720 - val_dense_2_precision: 0.9015 - val_dense_2_recall: 0.9015 - val_dense_3_precision: 0.8629 - val_dense_3_recall: 0.8629 - val_dense_4_precision: 0.9847 - val_dense_4_recall: 0.9847 - val_dense_5_precision: 0.9423 - val_dense_5_recall: 0.9423 - val_dense_6_precision: 0.8476 - val_dense_6_recall: 0.8476 - 30s/epoch - 29ms/step\n",
            "Epoch 58/100\n",
            "1030/1030 - 30s - loss: 1.0898 - dense_2_loss: 0.2189 - dense_3_loss: 0.2996 - dense_4_loss: 0.0673 - dense_5_loss: 0.1669 - dense_6_loss: 0.3371 - dense_2_precision: 0.9147 - dense_2_recall: 0.9147 - dense_3_precision: 0.8797 - dense_3_recall: 0.8797 - dense_4_precision: 0.9841 - dense_4_recall: 0.9841 - dense_5_precision: 0.9470 - dense_5_recall: 0.9470 - dense_6_precision: 0.8624 - dense_6_recall: 0.8624 - val_loss: 1.2166 - val_dense_2_loss: 0.2553 - val_dense_3_loss: 0.3384 - val_dense_4_loss: 0.0666 - val_dense_5_loss: 0.1866 - val_dense_6_loss: 0.3697 - val_dense_2_precision: 0.8994 - val_dense_2_recall: 0.8994 - val_dense_3_precision: 0.8625 - val_dense_3_recall: 0.8625 - val_dense_4_precision: 0.9847 - val_dense_4_recall: 0.9847 - val_dense_5_precision: 0.9413 - val_dense_5_recall: 0.9413 - val_dense_6_precision: 0.8491 - val_dense_6_recall: 0.8491 - 30s/epoch - 29ms/step\n",
            "Epoch 59/100\n",
            "1030/1030 - 30s - loss: 1.0827 - dense_2_loss: 0.2164 - dense_3_loss: 0.2985 - dense_4_loss: 0.0672 - dense_5_loss: 0.1661 - dense_6_loss: 0.3344 - dense_2_precision: 0.9164 - dense_2_recall: 0.9164 - dense_3_precision: 0.8800 - dense_3_recall: 0.8800 - dense_4_precision: 0.9841 - dense_4_recall: 0.9841 - dense_5_precision: 0.9470 - dense_5_recall: 0.9470 - dense_6_precision: 0.8630 - dense_6_recall: 0.8630 - val_loss: 1.2074 - val_dense_2_loss: 0.2492 - val_dense_3_loss: 0.3338 - val_dense_4_loss: 0.0665 - val_dense_5_loss: 0.1875 - val_dense_6_loss: 0.3704 - val_dense_2_precision: 0.9034 - val_dense_2_recall: 0.9034 - val_dense_3_precision: 0.8629 - val_dense_3_recall: 0.8629 - val_dense_4_precision: 0.9847 - val_dense_4_recall: 0.9847 - val_dense_5_precision: 0.9418 - val_dense_5_recall: 0.9418 - val_dense_6_precision: 0.8494 - val_dense_6_recall: 0.8494 - 30s/epoch - 29ms/step\n",
            "Epoch 60/100\n",
            "1030/1030 - 30s - loss: 1.0764 - dense_2_loss: 0.2143 - dense_3_loss: 0.2968 - dense_4_loss: 0.0670 - dense_5_loss: 0.1656 - dense_6_loss: 0.3327 - dense_2_precision: 0.9174 - dense_2_recall: 0.9174 - dense_3_precision: 0.8809 - dense_3_recall: 0.8809 - dense_4_precision: 0.9841 - dense_4_recall: 0.9841 - dense_5_precision: 0.9475 - dense_5_recall: 0.9475 - dense_6_precision: 0.8643 - dense_6_recall: 0.8643 - val_loss: 1.2069 - val_dense_2_loss: 0.2492 - val_dense_3_loss: 0.3342 - val_dense_4_loss: 0.0661 - val_dense_5_loss: 0.1880 - val_dense_6_loss: 0.3695 - val_dense_2_precision: 0.9017 - val_dense_2_recall: 0.9017 - val_dense_3_precision: 0.8620 - val_dense_3_recall: 0.8620 - val_dense_4_precision: 0.9847 - val_dense_4_recall: 0.9847 - val_dense_5_precision: 0.9415 - val_dense_5_recall: 0.9415 - val_dense_6_precision: 0.8516 - val_dense_6_recall: 0.8516 - 30s/epoch - 29ms/step\n",
            "Epoch 61/100\n",
            "1030/1030 - 30s - loss: 1.0726 - dense_2_loss: 0.2129 - dense_3_loss: 0.2961 - dense_4_loss: 0.0670 - dense_5_loss: 0.1649 - dense_6_loss: 0.3316 - dense_2_precision: 0.9181 - dense_2_recall: 0.9181 - dense_3_precision: 0.8808 - dense_3_recall: 0.8808 - dense_4_precision: 0.9841 - dense_4_recall: 0.9841 - dense_5_precision: 0.9476 - dense_5_recall: 0.9476 - dense_6_precision: 0.8646 - dense_6_recall: 0.8646 - val_loss: 1.1955 - val_dense_2_loss: 0.2445 - val_dense_3_loss: 0.3307 - val_dense_4_loss: 0.0665 - val_dense_5_loss: 0.1848 - val_dense_6_loss: 0.3690 - val_dense_2_precision: 0.9051 - val_dense_2_recall: 0.9051 - val_dense_3_precision: 0.8642 - val_dense_3_recall: 0.8642 - val_dense_4_precision: 0.9847 - val_dense_4_recall: 0.9847 - val_dense_5_precision: 0.9422 - val_dense_5_recall: 0.9422 - val_dense_6_precision: 0.8500 - val_dense_6_recall: 0.8500 - 30s/epoch - 29ms/step\n",
            "Epoch 62/100\n",
            "1030/1030 - 30s - loss: 1.0662 - dense_2_loss: 0.2108 - dense_3_loss: 0.2944 - dense_4_loss: 0.0668 - dense_5_loss: 0.1641 - dense_6_loss: 0.3301 - dense_2_precision: 0.9186 - dense_2_recall: 0.9186 - dense_3_precision: 0.8819 - dense_3_recall: 0.8819 - dense_4_precision: 0.9841 - dense_4_recall: 0.9841 - dense_5_precision: 0.9477 - dense_5_recall: 0.9477 - dense_6_precision: 0.8648 - dense_6_recall: 0.8648 - val_loss: 1.1975 - val_dense_2_loss: 0.2453 - val_dense_3_loss: 0.3317 - val_dense_4_loss: 0.0661 - val_dense_5_loss: 0.1836 - val_dense_6_loss: 0.3707 - val_dense_2_precision: 0.9051 - val_dense_2_recall: 0.9051 - val_dense_3_precision: 0.8641 - val_dense_3_recall: 0.8641 - val_dense_4_precision: 0.9847 - val_dense_4_recall: 0.9847 - val_dense_5_precision: 0.9417 - val_dense_5_recall: 0.9417 - val_dense_6_precision: 0.8475 - val_dense_6_recall: 0.8475 - 30s/epoch - 29ms/step\n",
            "Epoch 63/100\n",
            "1030/1030 - 30s - loss: 1.0603 - dense_2_loss: 0.2086 - dense_3_loss: 0.2926 - dense_4_loss: 0.0666 - dense_5_loss: 0.1635 - dense_6_loss: 0.3289 - dense_2_precision: 0.9195 - dense_2_recall: 0.9195 - dense_3_precision: 0.8828 - dense_3_recall: 0.8828 - dense_4_precision: 0.9841 - dense_4_recall: 0.9841 - dense_5_precision: 0.9479 - dense_5_recall: 0.9479 - dense_6_precision: 0.8657 - dense_6_recall: 0.8657 - val_loss: 1.2111 - val_dense_2_loss: 0.2489 - val_dense_3_loss: 0.3378 - val_dense_4_loss: 0.0658 - val_dense_5_loss: 0.1903 - val_dense_6_loss: 0.3683 - val_dense_2_precision: 0.9010 - val_dense_2_recall: 0.9010 - val_dense_3_precision: 0.8596 - val_dense_3_recall: 0.8596 - val_dense_4_precision: 0.9847 - val_dense_4_recall: 0.9847 - val_dense_5_precision: 0.9419 - val_dense_5_recall: 0.9419 - val_dense_6_precision: 0.8518 - val_dense_6_recall: 0.8518 - 30s/epoch - 29ms/step\n",
            "Epoch 64/100\n",
            "1030/1030 - 30s - loss: 1.0562 - dense_2_loss: 0.2067 - dense_3_loss: 0.2917 - dense_4_loss: 0.0666 - dense_5_loss: 0.1638 - dense_6_loss: 0.3274 - dense_2_precision: 0.9210 - dense_2_recall: 0.9210 - dense_3_precision: 0.8832 - dense_3_recall: 0.8832 - dense_4_precision: 0.9841 - dense_4_recall: 0.9841 - dense_5_precision: 0.9482 - dense_5_recall: 0.9482 - dense_6_precision: 0.8666 - dense_6_recall: 0.8666 - val_loss: 1.1865 - val_dense_2_loss: 0.2407 - val_dense_3_loss: 0.3285 - val_dense_4_loss: 0.0657 - val_dense_5_loss: 0.1839 - val_dense_6_loss: 0.3677 - val_dense_2_precision: 0.9059 - val_dense_2_recall: 0.9059 - val_dense_3_precision: 0.8665 - val_dense_3_recall: 0.8665 - val_dense_4_precision: 0.9847 - val_dense_4_recall: 0.9847 - val_dense_5_precision: 0.9417 - val_dense_5_recall: 0.9417 - val_dense_6_precision: 0.8522 - val_dense_6_recall: 0.8522 - 30s/epoch - 29ms/step\n",
            "Epoch 65/100\n",
            "1030/1030 - 30s - loss: 1.0499 - dense_2_loss: 0.2046 - dense_3_loss: 0.2898 - dense_4_loss: 0.0665 - dense_5_loss: 0.1625 - dense_6_loss: 0.3264 - dense_2_precision: 0.9219 - dense_2_recall: 0.9219 - dense_3_precision: 0.8843 - dense_3_recall: 0.8843 - dense_4_precision: 0.9841 - dense_4_recall: 0.9841 - dense_5_precision: 0.9481 - dense_5_recall: 0.9481 - dense_6_precision: 0.8671 - dense_6_recall: 0.8671 - val_loss: 1.1877 - val_dense_2_loss: 0.2415 - val_dense_3_loss: 0.3303 - val_dense_4_loss: 0.0655 - val_dense_5_loss: 0.1841 - val_dense_6_loss: 0.3664 - val_dense_2_precision: 0.9076 - val_dense_2_recall: 0.9076 - val_dense_3_precision: 0.8653 - val_dense_3_recall: 0.8653 - val_dense_4_precision: 0.9847 - val_dense_4_recall: 0.9847 - val_dense_5_precision: 0.9419 - val_dense_5_recall: 0.9419 - val_dense_6_precision: 0.8529 - val_dense_6_recall: 0.8529 - 30s/epoch - 29ms/step\n",
            "Epoch 66/100\n",
            "1030/1030 - 30s - loss: 1.0443 - dense_2_loss: 0.2028 - dense_3_loss: 0.2884 - dense_4_loss: 0.0663 - dense_5_loss: 0.1617 - dense_6_loss: 0.3251 - dense_2_precision: 0.9233 - dense_2_recall: 0.9233 - dense_3_precision: 0.8846 - dense_3_recall: 0.8846 - dense_4_precision: 0.9841 - dense_4_recall: 0.9841 - dense_5_precision: 0.9486 - dense_5_recall: 0.9486 - dense_6_precision: 0.8680 - dense_6_recall: 0.8680 - val_loss: 1.1906 - val_dense_2_loss: 0.2433 - val_dense_3_loss: 0.3306 - val_dense_4_loss: 0.0655 - val_dense_5_loss: 0.1838 - val_dense_6_loss: 0.3675 - val_dense_2_precision: 0.9070 - val_dense_2_recall: 0.9070 - val_dense_3_precision: 0.8657 - val_dense_3_recall: 0.8657 - val_dense_4_precision: 0.9847 - val_dense_4_recall: 0.9847 - val_dense_5_precision: 0.9408 - val_dense_5_recall: 0.9408 - val_dense_6_precision: 0.8505 - val_dense_6_recall: 0.8505 - 30s/epoch - 29ms/step\n",
            "Epoch 67/100\n",
            "1030/1030 - 30s - loss: 1.0401 - dense_2_loss: 0.2015 - dense_3_loss: 0.2874 - dense_4_loss: 0.0661 - dense_5_loss: 0.1612 - dense_6_loss: 0.3240 - dense_2_precision: 0.9232 - dense_2_recall: 0.9232 - dense_3_precision: 0.8848 - dense_3_recall: 0.8848 - dense_4_precision: 0.9841 - dense_4_recall: 0.9841 - dense_5_precision: 0.9486 - dense_5_recall: 0.9486 - dense_6_precision: 0.8679 - dense_6_recall: 0.8679 - val_loss: 1.1875 - val_dense_2_loss: 0.2392 - val_dense_3_loss: 0.3283 - val_dense_4_loss: 0.0655 - val_dense_5_loss: 0.1884 - val_dense_6_loss: 0.3660 - val_dense_2_precision: 0.9080 - val_dense_2_recall: 0.9080 - val_dense_3_precision: 0.8676 - val_dense_3_recall: 0.8676 - val_dense_4_precision: 0.9847 - val_dense_4_recall: 0.9847 - val_dense_5_precision: 0.9420 - val_dense_5_recall: 0.9420 - val_dense_6_precision: 0.8518 - val_dense_6_recall: 0.8518 - 30s/epoch - 29ms/step\n"
          ]
        }
      ]
    },
    {
      "cell_type": "code",
      "source": [
        "model.save(\"/content/drive/MyDrive/Colab Notebooks/UTEC_Sec_Project/data/model_clean_v1.hdf5\")"
      ],
      "metadata": {
        "id": "fNkTALnEocgB"
      },
      "id": "fNkTALnEocgB",
      "execution_count": null,
      "outputs": []
    },
    {
      "cell_type": "code",
      "source": [
        "new_model = tf.keras.models.load_model('/content/drive/MyDrive/Colab Notebooks/UTEC_Sec_Project/data/model_clean_v1.hdf5')\n",
        "new_model.summary()"
      ],
      "metadata": {
        "colab": {
          "base_uri": "https://localhost:8080/"
        },
        "id": "FBTgx6sG616x",
        "outputId": "48deda98-01d6-463d-b5f1-87e106ebe8a9"
      },
      "id": "FBTgx6sG616x",
      "execution_count": null,
      "outputs": [
        {
          "output_type": "stream",
          "name": "stdout",
          "text": [
            "Model: \"model\"\n",
            "__________________________________________________________________________________________________\n",
            " Layer (type)                   Output Shape         Param #     Connected to                     \n",
            "==================================================================================================\n",
            " input_1 (InputLayer)           [(None, 500)]        0           []                               \n",
            "                                                                                                  \n",
            " embedding (Embedding)          (None, 500, 13)      130000      ['input_1[0][0]']                \n",
            "                                                                                                  \n",
            " conv1d (Conv1D)                (None, 500, 512)     60416       ['embedding[0][0]']              \n",
            "                                                                                                  \n",
            " max_pooling1d (MaxPooling1D)   (None, 100, 512)     0           ['conv1d[0][0]']                 \n",
            "                                                                                                  \n",
            " dropout (Dropout)              (None, 100, 512)     0           ['max_pooling1d[0][0]']          \n",
            "                                                                                                  \n",
            " flatten (Flatten)              (None, 51200)        0           ['dropout[0][0]']                \n",
            "                                                                                                  \n",
            " dense (Dense)                  (None, 64)           3276864     ['flatten[0][0]']                \n",
            "                                                                                                  \n",
            " dense_1 (Dense)                (None, 16)           1040        ['dense[0][0]']                  \n",
            "                                                                                                  \n",
            " dense_2 (Dense)                (None, 2)            34          ['dense_1[0][0]']                \n",
            "                                                                                                  \n",
            " dense_3 (Dense)                (None, 2)            34          ['dense_1[0][0]']                \n",
            "                                                                                                  \n",
            " dense_4 (Dense)                (None, 2)            34          ['dense_1[0][0]']                \n",
            "                                                                                                  \n",
            " dense_5 (Dense)                (None, 2)            34          ['dense_1[0][0]']                \n",
            "                                                                                                  \n",
            " dense_6 (Dense)                (None, 2)            34          ['dense_1[0][0]']                \n",
            "                                                                                                  \n",
            "==================================================================================================\n",
            "Total params: 3,468,490\n",
            "Trainable params: 3,468,490\n",
            "Non-trainable params: 0\n",
            "__________________________________________________________________________________________________\n"
          ]
        }
      ]
    },
    {
      "cell_type": "code",
      "source": [
        ""
      ],
      "metadata": {
        "id": "S6ZcGAnj7HSi"
      },
      "id": "S6ZcGAnj7HSi",
      "execution_count": null,
      "outputs": []
    },
    {
      "cell_type": "markdown",
      "source": [
        "# Testing"
      ],
      "metadata": {
        "id": "7Oh0Mw9TJjYs"
      },
      "id": "7Oh0Mw9TJjYs"
    },
    {
      "cell_type": "code",
      "source": [
        ""
      ],
      "metadata": {
        "id": "_4nsBFOIJkAE"
      },
      "id": "_4nsBFOIJkAE",
      "execution_count": null,
      "outputs": []
    },
    {
      "cell_type": "code",
      "source": [
        "filename_test = \"/content/drive/MyDrive/Colab Notebooks/UTEC_Sec_Project/data/VDISC_test.hdf5\"\n",
        "data_test = {}\n",
        "\n",
        "with h5py.File(filename_test, \"r\") as f:\n",
        "    column_names = list(f.keys())\n",
        "    for column in column_names:\n",
        "        data_test[column] = list(f[column])"
      ],
      "metadata": {
        "id": "Ja2kl1xSJlUt"
      },
      "id": "Ja2kl1xSJlUt",
      "execution_count": null,
      "outputs": []
    },
    {
      "cell_type": "code",
      "source": [
        "df_test = pd.DataFrame(data_test)\n",
        "print(df_test.shape)\n",
        "df_test.head()"
      ],
      "metadata": {
        "colab": {
          "base_uri": "https://localhost:8080/",
          "height": 224
        },
        "id": "sQLfTQvAJuG4",
        "outputId": "e35e41b7-5545-4ea5-e9e4-cb280f67336d"
      },
      "id": "sQLfTQvAJuG4",
      "execution_count": null,
      "outputs": [
        {
          "output_type": "stream",
          "name": "stdout",
          "text": [
            "(127419, 6)\n"
          ]
        },
        {
          "output_type": "execute_result",
          "data": {
            "text/plain": [
              "   CWE-119  CWE-120  CWE-469  CWE-476  CWE-other  \\\n",
              "0    False    False    False    False      False   \n",
              "1    False    False    False    False      False   \n",
              "2    False    False    False    False      False   \n",
              "3    False    False    False    False      False   \n",
              "4    False    False    False    False      False   \n",
              "\n",
              "                                      functionSource  \n",
              "0  b'default_event_handler( \\n    GuiWidget *widg...  \n",
              "1  b'krb5_krbhst_init_flags(krb5_context context,...  \n",
              "2  b'swap_info_get(swp_entry_t entry)\\n{\\n\\tstruc...  \n",
              "3  b'parseattribs4(char *&c, const Vec4 &ival = V...  \n",
              "4  b'generateExecCode(CompileState* comp)\\n{\\n   ...  "
            ],
            "text/html": [
              "\n",
              "  <div id=\"df-14d46bec-e3e8-4010-819f-b8f7e0a17984\">\n",
              "    <div class=\"colab-df-container\">\n",
              "      <div>\n",
              "<style scoped>\n",
              "    .dataframe tbody tr th:only-of-type {\n",
              "        vertical-align: middle;\n",
              "    }\n",
              "\n",
              "    .dataframe tbody tr th {\n",
              "        vertical-align: top;\n",
              "    }\n",
              "\n",
              "    .dataframe thead th {\n",
              "        text-align: right;\n",
              "    }\n",
              "</style>\n",
              "<table border=\"1\" class=\"dataframe\">\n",
              "  <thead>\n",
              "    <tr style=\"text-align: right;\">\n",
              "      <th></th>\n",
              "      <th>CWE-119</th>\n",
              "      <th>CWE-120</th>\n",
              "      <th>CWE-469</th>\n",
              "      <th>CWE-476</th>\n",
              "      <th>CWE-other</th>\n",
              "      <th>functionSource</th>\n",
              "    </tr>\n",
              "  </thead>\n",
              "  <tbody>\n",
              "    <tr>\n",
              "      <th>0</th>\n",
              "      <td>False</td>\n",
              "      <td>False</td>\n",
              "      <td>False</td>\n",
              "      <td>False</td>\n",
              "      <td>False</td>\n",
              "      <td>b'default_event_handler( \\n    GuiWidget *widg...</td>\n",
              "    </tr>\n",
              "    <tr>\n",
              "      <th>1</th>\n",
              "      <td>False</td>\n",
              "      <td>False</td>\n",
              "      <td>False</td>\n",
              "      <td>False</td>\n",
              "      <td>False</td>\n",
              "      <td>b'krb5_krbhst_init_flags(krb5_context context,...</td>\n",
              "    </tr>\n",
              "    <tr>\n",
              "      <th>2</th>\n",
              "      <td>False</td>\n",
              "      <td>False</td>\n",
              "      <td>False</td>\n",
              "      <td>False</td>\n",
              "      <td>False</td>\n",
              "      <td>b'swap_info_get(swp_entry_t entry)\\n{\\n\\tstruc...</td>\n",
              "    </tr>\n",
              "    <tr>\n",
              "      <th>3</th>\n",
              "      <td>False</td>\n",
              "      <td>False</td>\n",
              "      <td>False</td>\n",
              "      <td>False</td>\n",
              "      <td>False</td>\n",
              "      <td>b'parseattribs4(char *&amp;c, const Vec4 &amp;ival = V...</td>\n",
              "    </tr>\n",
              "    <tr>\n",
              "      <th>4</th>\n",
              "      <td>False</td>\n",
              "      <td>False</td>\n",
              "      <td>False</td>\n",
              "      <td>False</td>\n",
              "      <td>False</td>\n",
              "      <td>b'generateExecCode(CompileState* comp)\\n{\\n   ...</td>\n",
              "    </tr>\n",
              "  </tbody>\n",
              "</table>\n",
              "</div>\n",
              "      <button class=\"colab-df-convert\" onclick=\"convertToInteractive('df-14d46bec-e3e8-4010-819f-b8f7e0a17984')\"\n",
              "              title=\"Convert this dataframe to an interactive table.\"\n",
              "              style=\"display:none;\">\n",
              "        \n",
              "  <svg xmlns=\"http://www.w3.org/2000/svg\" height=\"24px\"viewBox=\"0 0 24 24\"\n",
              "       width=\"24px\">\n",
              "    <path d=\"M0 0h24v24H0V0z\" fill=\"none\"/>\n",
              "    <path d=\"M18.56 5.44l.94 2.06.94-2.06 2.06-.94-2.06-.94-.94-2.06-.94 2.06-2.06.94zm-11 1L8.5 8.5l.94-2.06 2.06-.94-2.06-.94L8.5 2.5l-.94 2.06-2.06.94zm10 10l.94 2.06.94-2.06 2.06-.94-2.06-.94-.94-2.06-.94 2.06-2.06.94z\"/><path d=\"M17.41 7.96l-1.37-1.37c-.4-.4-.92-.59-1.43-.59-.52 0-1.04.2-1.43.59L10.3 9.45l-7.72 7.72c-.78.78-.78 2.05 0 2.83L4 21.41c.39.39.9.59 1.41.59.51 0 1.02-.2 1.41-.59l7.78-7.78 2.81-2.81c.8-.78.8-2.07 0-2.86zM5.41 20L4 18.59l7.72-7.72 1.47 1.35L5.41 20z\"/>\n",
              "  </svg>\n",
              "      </button>\n",
              "      \n",
              "  <style>\n",
              "    .colab-df-container {\n",
              "      display:flex;\n",
              "      flex-wrap:wrap;\n",
              "      gap: 12px;\n",
              "    }\n",
              "\n",
              "    .colab-df-convert {\n",
              "      background-color: #E8F0FE;\n",
              "      border: none;\n",
              "      border-radius: 50%;\n",
              "      cursor: pointer;\n",
              "      display: none;\n",
              "      fill: #1967D2;\n",
              "      height: 32px;\n",
              "      padding: 0 0 0 0;\n",
              "      width: 32px;\n",
              "    }\n",
              "\n",
              "    .colab-df-convert:hover {\n",
              "      background-color: #E2EBFA;\n",
              "      box-shadow: 0px 1px 2px rgba(60, 64, 67, 0.3), 0px 1px 3px 1px rgba(60, 64, 67, 0.15);\n",
              "      fill: #174EA6;\n",
              "    }\n",
              "\n",
              "    [theme=dark] .colab-df-convert {\n",
              "      background-color: #3B4455;\n",
              "      fill: #D2E3FC;\n",
              "    }\n",
              "\n",
              "    [theme=dark] .colab-df-convert:hover {\n",
              "      background-color: #434B5C;\n",
              "      box-shadow: 0px 1px 3px 1px rgba(0, 0, 0, 0.15);\n",
              "      filter: drop-shadow(0px 1px 2px rgba(0, 0, 0, 0.3));\n",
              "      fill: #FFFFFF;\n",
              "    }\n",
              "  </style>\n",
              "\n",
              "      <script>\n",
              "        const buttonEl =\n",
              "          document.querySelector('#df-14d46bec-e3e8-4010-819f-b8f7e0a17984 button.colab-df-convert');\n",
              "        buttonEl.style.display =\n",
              "          google.colab.kernel.accessAllowed ? 'block' : 'none';\n",
              "\n",
              "        async function convertToInteractive(key) {\n",
              "          const element = document.querySelector('#df-14d46bec-e3e8-4010-819f-b8f7e0a17984');\n",
              "          const dataTable =\n",
              "            await google.colab.kernel.invokeFunction('convertToInteractive',\n",
              "                                                     [key], {});\n",
              "          if (!dataTable) return;\n",
              "\n",
              "          const docLinkHtml = 'Like what you see? Visit the ' +\n",
              "            '<a target=\"_blank\" href=https://colab.research.google.com/notebooks/data_table.ipynb>data table notebook</a>'\n",
              "            + ' to learn more about interactive tables.';\n",
              "          element.innerHTML = '';\n",
              "          dataTable['output_type'] = 'display_data';\n",
              "          await google.colab.output.renderOutput(dataTable, element);\n",
              "          const docLink = document.createElement('div');\n",
              "          docLink.innerHTML = docLinkHtml;\n",
              "          element.appendChild(docLink);\n",
              "        }\n",
              "      </script>\n",
              "    </div>\n",
              "  </div>\n",
              "  "
            ]
          },
          "metadata": {},
          "execution_count": 4
        }
      ]
    },
    {
      "cell_type": "code",
      "source": [
        ""
      ],
      "metadata": {
        "id": "aw_HjWo6J84z"
      },
      "id": "aw_HjWo6J84z",
      "execution_count": null,
      "outputs": []
    }
  ],
  "metadata": {
    "kernelspec": {
      "display_name": "Python 3 (ipykernel)",
      "language": "python",
      "name": "python3"
    },
    "language_info": {
      "codemirror_mode": {
        "name": "ipython",
        "version": 3
      },
      "file_extension": ".py",
      "mimetype": "text/x-python",
      "name": "python",
      "nbconvert_exporter": "python",
      "pygments_lexer": "ipython3",
      "version": "3.10.4"
    },
    "colab": {
      "name": "draft_modeling.ipynb",
      "provenance": []
    },
    "gpuClass": "standard"
  },
  "nbformat": 4,
  "nbformat_minor": 5
}